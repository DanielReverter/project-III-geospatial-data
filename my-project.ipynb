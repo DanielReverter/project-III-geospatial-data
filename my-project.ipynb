{
 "cells": [
  {
   "cell_type": "code",
   "execution_count": 1,
   "id": "0c7762bf",
   "metadata": {},
   "outputs": [],
   "source": [
    "import os\n",
    "import requests\n",
    "import json\n",
    "from dotenv import load_dotenv\n",
    "import pandas as pd\n",
    "import geopandas as gpd\n",
    "from cartoframes.viz import Map, Layer, popup_element\n",
    "from pymongo import MongoClient\n",
    "from pymongo import GEOSPHERE\n",
    "import math\n",
    "import numpy as np\n",
    "import folium\n",
    "from folium import Choropleth, Circle, Marker, Icon, Map, features\n",
    "from folium.plugins import HeatMap, MarkerCluster\n",
    "from src.functions import *"
   ]
  },
  {
   "cell_type": "code",
   "execution_count": 2,
   "id": "c9a70f88",
   "metadata": {},
   "outputs": [
    {
     "data": {
      "text/html": [
       "<div>\n",
       "<style scoped>\n",
       "    .dataframe tbody tr th:only-of-type {\n",
       "        vertical-align: middle;\n",
       "    }\n",
       "\n",
       "    .dataframe tbody tr th {\n",
       "        vertical-align: top;\n",
       "    }\n",
       "\n",
       "    .dataframe thead th {\n",
       "        text-align: right;\n",
       "    }\n",
       "</style>\n",
       "<table border=\"1\" class=\"dataframe\">\n",
       "  <thead>\n",
       "    <tr style=\"text-align: right;\">\n",
       "      <th></th>\n",
       "      <th>name</th>\n",
       "      <th>city</th>\n",
       "      <th>office_number</th>\n",
       "      <th>address</th>\n",
       "      <th>latitude</th>\n",
       "      <th>longitude</th>\n",
       "    </tr>\n",
       "  </thead>\n",
       "  <tbody>\n",
       "    <tr>\n",
       "      <th>0</th>\n",
       "      <td>e-contratos</td>\n",
       "      <td>Valencia</td>\n",
       "      <td>1</td>\n",
       "      <td>Periodista Azzati, 5. 3, 6B</td>\n",
       "      <td>39.469301</td>\n",
       "      <td>-0.377068</td>\n",
       "    </tr>\n",
       "    <tr>\n",
       "      <th>1</th>\n",
       "      <td>Modo Marketing</td>\n",
       "      <td>Valencia</td>\n",
       "      <td>1</td>\n",
       "      <td></td>\n",
       "      <td>39.640730</td>\n",
       "      <td>-0.421944</td>\n",
       "    </tr>\n",
       "    <tr>\n",
       "      <th>2</th>\n",
       "      <td>Efebege</td>\n",
       "      <td>Valencia</td>\n",
       "      <td>1</td>\n",
       "      <td>General Barroso, 66</td>\n",
       "      <td>39.450211</td>\n",
       "      <td>-0.392465</td>\n",
       "    </tr>\n",
       "    <tr>\n",
       "      <th>3</th>\n",
       "      <td>Feasa Valencia</td>\n",
       "      <td>Valencia</td>\n",
       "      <td>1</td>\n",
       "      <td>Cami Vera SN</td>\n",
       "      <td>NaN</td>\n",
       "      <td>NaN</td>\n",
       "    </tr>\n",
       "    <tr>\n",
       "      <th>4</th>\n",
       "      <td>DOMODESK</td>\n",
       "      <td>Valencia</td>\n",
       "      <td>1</td>\n",
       "      <td>C/Alqueria de Benlloch 24</td>\n",
       "      <td>39.461268</td>\n",
       "      <td>-0.398346</td>\n",
       "    </tr>\n",
       "    <tr>\n",
       "      <th>...</th>\n",
       "      <td>...</td>\n",
       "      <td>...</td>\n",
       "      <td>...</td>\n",
       "      <td>...</td>\n",
       "      <td>...</td>\n",
       "      <td>...</td>\n",
       "    </tr>\n",
       "    <tr>\n",
       "      <th>161</th>\n",
       "      <td>FRV</td>\n",
       "      <td>Madrid</td>\n",
       "      <td>1</td>\n",
       "      <td>C/ Fortuny, 45 bajo izquierda</td>\n",
       "      <td>NaN</td>\n",
       "      <td>NaN</td>\n",
       "    </tr>\n",
       "    <tr>\n",
       "      <th>162</th>\n",
       "      <td>FRV</td>\n",
       "      <td>Madrid</td>\n",
       "      <td>1</td>\n",
       "      <td>Rafael Calvo 42</td>\n",
       "      <td>NaN</td>\n",
       "      <td>NaN</td>\n",
       "    </tr>\n",
       "    <tr>\n",
       "      <th>163</th>\n",
       "      <td>StreamUK</td>\n",
       "      <td>Madrid</td>\n",
       "      <td>1</td>\n",
       "      <td>c/marathon 6</td>\n",
       "      <td>NaN</td>\n",
       "      <td>NaN</td>\n",
       "    </tr>\n",
       "    <tr>\n",
       "      <th>164</th>\n",
       "      <td>AdLINK Group</td>\n",
       "      <td>Madrid</td>\n",
       "      <td>1</td>\n",
       "      <td>affilinet Espana SLU</td>\n",
       "      <td>NaN</td>\n",
       "      <td>NaN</td>\n",
       "    </tr>\n",
       "    <tr>\n",
       "      <th>165</th>\n",
       "      <td>BuyVIP</td>\n",
       "      <td>Madrid</td>\n",
       "      <td>1</td>\n",
       "      <td>33. Edificio Atica 4 planta 2</td>\n",
       "      <td>40.416741</td>\n",
       "      <td>-3.703250</td>\n",
       "    </tr>\n",
       "  </tbody>\n",
       "</table>\n",
       "<p>166 rows × 6 columns</p>\n",
       "</div>"
      ],
      "text/plain": [
       "               name      city  office_number                        address  \\\n",
       "0       e-contratos  Valencia              1    Periodista Azzati, 5. 3, 6B   \n",
       "1    Modo Marketing  Valencia              1                                  \n",
       "2           Efebege  Valencia              1            General Barroso, 66   \n",
       "3    Feasa Valencia  Valencia              1                   Cami Vera SN   \n",
       "4          DOMODESK  Valencia              1      C/Alqueria de Benlloch 24   \n",
       "..              ...       ...            ...                            ...   \n",
       "161             FRV    Madrid              1  C/ Fortuny, 45 bajo izquierda   \n",
       "162             FRV    Madrid              1                Rafael Calvo 42   \n",
       "163        StreamUK    Madrid              1                   c/marathon 6   \n",
       "164    AdLINK Group    Madrid              1           affilinet Espana SLU   \n",
       "165          BuyVIP    Madrid              1  33. Edificio Atica 4 planta 2   \n",
       "\n",
       "      latitude  longitude  \n",
       "0    39.469301  -0.377068  \n",
       "1    39.640730  -0.421944  \n",
       "2    39.450211  -0.392465  \n",
       "3          NaN        NaN  \n",
       "4    39.461268  -0.398346  \n",
       "..         ...        ...  \n",
       "161        NaN        NaN  \n",
       "162        NaN        NaN  \n",
       "163        NaN        NaN  \n",
       "164        NaN        NaN  \n",
       "165  40.416741  -3.703250  \n",
       "\n",
       "[166 rows x 6 columns]"
      ]
     },
     "execution_count": 2,
     "metadata": {},
     "output_type": "execute_result"
    }
   ],
   "source": [
    "df = spain_offices()\n",
    "df"
   ]
  },
  {
   "cell_type": "code",
   "execution_count": null,
   "id": "4ed73f1c",
   "metadata": {},
   "outputs": [],
   "source": [
    "df['address'].replace('', np.nan, inplace=True)"
   ]
  },
  {
   "cell_type": "code",
   "execution_count": null,
   "id": "07169c7b",
   "metadata": {},
   "outputs": [],
   "source": [
    "df = df.dropna(subset=[\"address\", \"latitude\", \"longitude\"], how='all')"
   ]
  },
  {
   "cell_type": "code",
   "execution_count": null,
   "id": "03d0dc2b",
   "metadata": {},
   "outputs": [],
   "source": [
    "def get_coordinates (place):\n",
    "    try:\n",
    "        res = requests.get(f\"https://geocode.xyz/{place}?json=1\").json()\n",
    "        return [res[\"longt\"],res[\"latt\"]]\n",
    "    except:\n",
    "        return [np.nan, np.nan]"
   ]
  },
  {
   "cell_type": "code",
   "execution_count": null,
   "id": "9c8a5d33",
   "metadata": {},
   "outputs": [],
   "source": [
    "for i in df.index.values.tolist():\n",
    "    if math.isnan(df.at[i, \"latitude\"]) or df.at[i, \"latitude\"]==0:\n",
    "        address_complete = df.at[i, \"address\"] + \", \" + df.at[i, \"city\"] + \", Spain\"\n",
    "        coordinates = get_coordinates(address_complete)\n",
    "        df.at[i, \"latitude\"]= float(coordinates[1])\n",
    "        df.at[i, \"longitude\"]= float(coordinates[0])"
   ]
  },
  {
   "cell_type": "code",
   "execution_count": null,
   "id": "0ed13ed5",
   "metadata": {},
   "outputs": [],
   "source": [
    "for i in df.index.values.tolist():\n",
    "    if df.at[i, \"latitude\"] < 20:\n",
    "        latitude = df.at[i, \"latitude\"]\n",
    "        longitude = df.at[i, \"longitude\"]\n",
    "        df.at[i, \"latitude\"] = longitude\n",
    "        df.at[i, \"longitude\"] = latitude"
   ]
  },
  {
   "cell_type": "code",
   "execution_count": null,
   "id": "bcf50b68",
   "metadata": {},
   "outputs": [],
   "source": [
    "df['latitude'] = df['latitude'].fillna(0)"
   ]
  },
  {
   "cell_type": "code",
   "execution_count": null,
   "id": "b52de8e8",
   "metadata": {},
   "outputs": [],
   "source": [
    "df.drop(df[df.latitude < 30].index, inplace=True)"
   ]
  },
  {
   "cell_type": "code",
   "execution_count": null,
   "id": "80e5b7a8",
   "metadata": {},
   "outputs": [],
   "source": [
    "df.drop(df[df.longitude < -10].index, inplace=True)"
   ]
  },
  {
   "cell_type": "code",
   "execution_count": null,
   "id": "866afba1",
   "metadata": {},
   "outputs": [],
   "source": [
    "df.to_csv(\"Output/spanish_companies.csv\")"
   ]
  },
  {
   "cell_type": "code",
   "execution_count": null,
   "id": "1ce2fb05",
   "metadata": {},
   "outputs": [],
   "source": [
    "df = pd.read_csv('Output/spanish_companies.csv')"
   ]
  },
  {
   "cell_type": "code",
   "execution_count": null,
   "id": "482f6657",
   "metadata": {},
   "outputs": [],
   "source": [
    "df = df.set_index('Unnamed: 0')\n",
    "df.index.name = None"
   ]
  },
  {
   "cell_type": "code",
   "execution_count": null,
   "id": "829063f5",
   "metadata": {},
   "outputs": [],
   "source": [
    "df"
   ]
  },
  {
   "cell_type": "code",
   "execution_count": null,
   "id": "f3daf0ea",
   "metadata": {},
   "outputs": [],
   "source": [
    "position = [\"Designers\", \"UI/UX Engineers\", \"Frontend Developers\", \"Data Engineers\", \n",
    "             \"Backend Developers\", \"Account Managers\", \"Maintenance\", \"Executives\", \"CEO\"]\n",
    "number_of_employees = [20, 5, 10, 15, 5, 20, 1, 10, 1]\n",
    "salary = [30000, 33000, 33000, 44000, 39000, 25000, 20000, 60000, 80000]"
   ]
  },
  {
   "cell_type": "code",
   "execution_count": null,
   "id": "0a6e360c",
   "metadata": {},
   "outputs": [],
   "source": [
    "employees_dict = {\"position\":position, \"number_of_employees\":number_of_employees, \"salary\":salary}"
   ]
  },
  {
   "cell_type": "code",
   "execution_count": null,
   "id": "d23dc30d",
   "metadata": {},
   "outputs": [],
   "source": [
    "df2 = pd.DataFrame.from_dict(employees_dict)"
   ]
  },
  {
   "cell_type": "code",
   "execution_count": null,
   "id": "8b2be553",
   "metadata": {},
   "outputs": [],
   "source": [
    "df2"
   ]
  },
  {
   "cell_type": "code",
   "execution_count": null,
   "id": "18ab6f48",
   "metadata": {},
   "outputs": [],
   "source": [
    "requirements = [\"Design company\", \"Schools\", \"Successful tech startup\", \"Starbucks\", \"Airport\", \"Party\", \n",
    "                \"Vegan restaurant\", \"Basketball stadium\", \"Dog hairdresser\"]\n",
    "related_employees = [\"Designers\", \"30% of All\", \"Frontend Developers/Backend Developers\", \"Executives\", \"Account Managers\", \"All\", \n",
    "                     \"CEO\", \"Maintenance\", \"All\"]\n",
    "weight = [80, 100, 80, 40, 100, 10, 300, 500, 1]"
   ]
  },
  {
   "cell_type": "code",
   "execution_count": null,
   "id": "fc575350",
   "metadata": {},
   "outputs": [],
   "source": [
    "requirements_dict = {\"requirements\":requirements, \"related_employees\":related_employees, \"weight\":weight}"
   ]
  },
  {
   "cell_type": "code",
   "execution_count": null,
   "id": "b1f5f78f",
   "metadata": {},
   "outputs": [],
   "source": [
    "df3 = pd.DataFrame.from_dict(requirements_dict)"
   ]
  },
  {
   "cell_type": "code",
   "execution_count": null,
   "id": "69a89fdc",
   "metadata": {},
   "outputs": [],
   "source": [
    "df3"
   ]
  },
  {
   "cell_type": "code",
   "execution_count": null,
   "id": "75b2db43",
   "metadata": {},
   "outputs": [],
   "source": [
    "final_weight = []\n",
    "everyone = list(df2[\"position\"].values)\n",
    "related_employees = [[\"Designers\"], everyone, ['Frontend Developers', 'Backend Developers'], ['Executives'], ['Account Managers'], everyone, ['CEO'], ['Maintenance'], everyone] \n",
    "for i, employee_types in enumerate(related_employees):\n",
    "    weight = df3.at[i, \"weight\"]\n",
    "    final = 0\n",
    "    for employee_type in employee_types:\n",
    "        number_of_employees = list(df2.loc[df2['position'] == employee_type][\"number_of_employees\"].values)[0]\n",
    "        salary = list(df2.loc[df2['position'] == employee_type][\"salary\"].values)[0]\n",
    "        final += weight*number_of_employees*salary\n",
    "    if i == 1: \n",
    "        final *= 0.3\n",
    "    final_weight.append(int(final))"
   ]
  },
  {
   "cell_type": "code",
   "execution_count": null,
   "id": "547b1f7d",
   "metadata": {},
   "outputs": [],
   "source": [
    "df3['final_weight'] = final_weight"
   ]
  },
  {
   "cell_type": "code",
   "execution_count": null,
   "id": "ee3b5078",
   "metadata": {},
   "outputs": [],
   "source": [
    "df3"
   ]
  },
  {
   "cell_type": "code",
   "execution_count": null,
   "id": "9c05ca63",
   "metadata": {},
   "outputs": [],
   "source": [
    "df"
   ]
  },
  {
   "cell_type": "code",
   "execution_count": null,
   "id": "f02b7465",
   "metadata": {},
   "outputs": [],
   "source": [
    "def get_results_from_foursquare (query, location, limit):\n",
    "    url = f\"https://api.foursquare.com/v3/places/search?query={query}&ll={location[0]}%2C{location[1]}&radius=100000&sort=RELEVANCE&limit={limit}\"\n",
    "    headers = {\n",
    "        \"Accept\": \"application/json\",\n",
    "        \"Authorization\": key\n",
    "    }\n",
    "    response = requests.get(url, headers=headers)\n",
    "    return response.json()[\"results\"]"
   ]
  },
  {
   "cell_type": "code",
   "execution_count": null,
   "id": "ecc040ce",
   "metadata": {},
   "outputs": [],
   "source": [
    "query = \"school\"\n",
    "limit = 10\n",
    "school_distance = []\n",
    "for index in df.index.values.tolist():\n",
    "    location = [df.at[index, \"latitude\"], df.at[index, \"longitude\"]]\n",
    "    results = get_results_from_foursquare (query, location, limit)\n",
    "    distances = []\n",
    "    for result in results:\n",
    "        distances.append(result[\"distance\"])\n",
    "    if len(distances)>0:\n",
    "        starbucks_distance.append(min(distances))\n",
    "    else:\n",
    "        starbucks_distance.append(100000)\n",
    "df['school_distance'] = school_distance"
   ]
  },
  {
   "cell_type": "code",
   "execution_count": null,
   "id": "da159390",
   "metadata": {},
   "outputs": [],
   "source": [
    "df.to_csv(\"Output/spanish_companies_school.csv\")"
   ]
  },
  {
   "cell_type": "code",
   "execution_count": null,
   "id": "3ccac5fb",
   "metadata": {},
   "outputs": [],
   "source": [
    "query = \"starbucks\"\n",
    "limit = 10\n",
    "starbucks_distance = []\n",
    "for index in df.index.values.tolist():\n",
    "    location = [df.at[index, \"latitude\"], df.at[index, \"longitude\"]]\n",
    "    results = get_results_from_foursquare (query, location, limit)\n",
    "    distances = []\n",
    "    for result in results:\n",
    "        distances.append(result[\"distance\"])\n",
    "    if len(distances)>0:\n",
    "        starbucks_distance.append(min(distances))\n",
    "    else:\n",
    "        starbucks_distance.append(100000)\n",
    "df['starbucks_distance'] = starbucks_distance"
   ]
  },
  {
   "cell_type": "code",
   "execution_count": null,
   "id": "834ad5ae",
   "metadata": {},
   "outputs": [],
   "source": [
    "df.to_csv(\"Output/spanish_companies_school_starbucks.csv\")"
   ]
  },
  {
   "cell_type": "code",
   "execution_count": null,
   "id": "aad8a770",
   "metadata": {},
   "outputs": [],
   "source": [
    "query = \"airport\"\n",
    "limit = 10\n",
    "airport_distance = []\n",
    "for index in df.index.values.tolist():\n",
    "    location = [df.at[index, \"latitude\"], df.at[index, \"longitude\"]]\n",
    "    results = get_results_from_foursquare (query, location, limit)\n",
    "    distances = []\n",
    "    for result in results:\n",
    "        distances.append(result[\"distance\"])\n",
    "    if len(distances)>0:\n",
    "        airport_distance.append(min(distances))\n",
    "    else:\n",
    "        airport_distance.append(100000)\n",
    "df['airport_distance'] = airport_distance"
   ]
  },
  {
   "cell_type": "code",
   "execution_count": null,
   "id": "364780cd",
   "metadata": {},
   "outputs": [],
   "source": [
    "df.to_csv(\"Output/spanish_companies_school_starbucks_airport.csv\")"
   ]
  },
  {
   "cell_type": "code",
   "execution_count": null,
   "id": "f3d38f00",
   "metadata": {},
   "outputs": [],
   "source": [
    "query = \"vegan\"\n",
    "limit = 10\n",
    "vegan_distance = []\n",
    "for index in df.index.values.tolist():\n",
    "    location = [df.at[index, \"latitude\"], df.at[index, \"longitude\"]]\n",
    "    results = get_results_from_foursquare (query, location, limit)\n",
    "    distances = []\n",
    "    for result in results:\n",
    "        distances.append(result[\"distance\"])\n",
    "    if len(distances)>0:\n",
    "        vegan_distance.append(min(distances))\n",
    "    else:\n",
    "        vegan_distance.append(100000)\n",
    "df['vegan_distance'] = vegan_distance"
   ]
  },
  {
   "cell_type": "code",
   "execution_count": null,
   "id": "9acacf64",
   "metadata": {},
   "outputs": [],
   "source": [
    "df.to_csv(\"Output/spanish_companies_school_starbucks_airport_vegan.csv\")"
   ]
  },
  {
   "cell_type": "code",
   "execution_count": null,
   "id": "7fbb3930",
   "metadata": {},
   "outputs": [],
   "source": [
    "query = \"Basketball stadium\"\n",
    "limit = 10\n",
    "basketball_distance = []\n",
    "for index in df.index.values.tolist():\n",
    "    location = [df.at[index, \"latitude\"], df.at[index, \"longitude\"]]\n",
    "    results = get_results_from_foursquare (query, location, limit)\n",
    "    distances = []\n",
    "    for result in results:\n",
    "        distances.append(result[\"distance\"])\n",
    "    if len(distances)>0:\n",
    "        basketball_distance.append(min(distances))\n",
    "    else:\n",
    "        basketball_distance.append(100000)\n",
    "df['basketball_distance'] = basketball_distance"
   ]
  },
  {
   "cell_type": "code",
   "execution_count": null,
   "id": "7ce2fad1",
   "metadata": {},
   "outputs": [],
   "source": [
    "df.to_csv(\"Output/spanish_companies_school_starbucks_airport_vegan_basketball.csv\")"
   ]
  },
  {
   "cell_type": "code",
   "execution_count": null,
   "id": "155ae36d",
   "metadata": {},
   "outputs": [],
   "source": [
    "query = \"party\"\n",
    "limit = 10\n",
    "party_distance = []\n",
    "for index in df.index.values.tolist():\n",
    "    location = [df.at[index, \"latitude\"], df.at[index, \"longitude\"]]\n",
    "    results = get_results_from_foursquare (query, location, limit)\n",
    "    distances = []\n",
    "    for result in results:\n",
    "        distances.append(result[\"distance\"])\n",
    "    if len(distances)>0:\n",
    "        party_distance.append(min(distances))\n",
    "    else:\n",
    "        party_distance.append(100000)\n",
    "df['party_distance'] = party_distance"
   ]
  },
  {
   "cell_type": "code",
   "execution_count": null,
   "id": "cc463682",
   "metadata": {},
   "outputs": [],
   "source": [
    "df.to_csv(\"Output/spanish_companies_school_starbucks_airport_vegan_basketball_party.csv\")"
   ]
  },
  {
   "cell_type": "code",
   "execution_count": null,
   "id": "bcfe901e",
   "metadata": {},
   "outputs": [],
   "source": [
    "query = \"pet service\"\n",
    "limit = 10\n",
    "dog_distance = []\n",
    "for index in df.index.values.tolist():\n",
    "    location = [df.at[index, \"latitude\"], df.at[index, \"longitude\"]]\n",
    "    results = get_results_from_foursquare (query, location, limit)\n",
    "    distances = []\n",
    "    for result in results:\n",
    "        distances.append(result[\"distance\"])\n",
    "    if len(distances)>0:\n",
    "        dog_distance.append(min(distances))\n",
    "    else:\n",
    "        dog_distance.append(100000)\n",
    "df['dog_distance'] = dog_distance"
   ]
  },
  {
   "cell_type": "code",
   "execution_count": null,
   "id": "72c64195",
   "metadata": {},
   "outputs": [],
   "source": [
    "df.to_csv(\"Output/spanish_companies_school_starbucks_airport_vegan_basketball_party_dog.csv\")"
   ]
  },
  {
   "cell_type": "code",
   "execution_count": null,
   "id": "0e74bcbb",
   "metadata": {},
   "outputs": [],
   "source": [
    "query = \"Design\"\n",
    "limit = 10\n",
    "design_distance = []\n",
    "for index in df.index.values.tolist():\n",
    "    location = [df.at[index, \"latitude\"], df.at[index, \"longitude\"]]\n",
    "    results = get_results_from_foursquare (query, location, limit)\n",
    "    distances = []\n",
    "    for result in results:\n",
    "        distances.append(result[\"distance\"])\n",
    "    if len(distances)>0:\n",
    "        design_distance.append(min(distances))\n",
    "    else:\n",
    "        design_distance.append(100000)\n",
    "df['design_distance'] = design_distance"
   ]
  },
  {
   "cell_type": "code",
   "execution_count": null,
   "id": "2d4bc3d0",
   "metadata": {},
   "outputs": [],
   "source": [
    "df.to_csv(\"Output/spanish_companies_school_starbucks_airport_vegan_basketball_party_dog_design.csv\")"
   ]
  },
  {
   "cell_type": "code",
   "execution_count": null,
   "id": "e7b19e44",
   "metadata": {},
   "outputs": [],
   "source": [
    "query = \"tech startup\"\n",
    "limit = 10\n",
    "tech_distance = []\n",
    "for index in df.index.values.tolist():\n",
    "    location = [df.at[index, \"latitude\"], df.at[index, \"longitude\"]]\n",
    "    results = get_results_from_foursquare (query, location, limit)\n",
    "    distances = []\n",
    "    for result in results:\n",
    "        distances.append(result[\"distance\"])\n",
    "    if len(distances)>0:\n",
    "        tech_distance.append(min(distances))\n",
    "    else:\n",
    "        tech_distance.append(100000)\n",
    "df['tech_distance'] = tech_distance"
   ]
  },
  {
   "cell_type": "code",
   "execution_count": null,
   "id": "595d6816",
   "metadata": {},
   "outputs": [],
   "source": [
    "df.to_csv(\"Output/spanish_companies_all.csv\")"
   ]
  },
  {
   "cell_type": "code",
   "execution_count": null,
   "id": "0ce43d90",
   "metadata": {},
   "outputs": [],
   "source": [
    "cols = df.columns.tolist()\n",
    "cols2 = cols[0:6] + [cols[-3]] + [cols[6]] + [cols[-2]] + cols[7:9] + [cols[-5]] + cols[9:11] + [cols[-4]]\n",
    "df = df[cols2]"
   ]
  },
  {
   "cell_type": "code",
   "execution_count": null,
   "id": "b5de2003",
   "metadata": {},
   "outputs": [],
   "source": [
    "df.to_csv(\"Output/spanish_companies_ordered.csv\")"
   ]
  },
  {
   "cell_type": "code",
   "execution_count": null,
   "id": "45e97b89",
   "metadata": {},
   "outputs": [],
   "source": [
    "sum_of_distances = []\n",
    "list_of_columns_to_add = list(df.columns)[6:]\n",
    "for index in df.index.values.tolist():\n",
    "    sum_ = 0\n",
    "    i = 0\n",
    "    for column in list_of_columns_to_add:\n",
    "        weight = df3.at[i, \"final_weight\"]\n",
    "        sum_ += df.at[index, column]*weight\n",
    "        i += 1\n",
    "    sum_of_distances.append(sum_)\n",
    "df['sum_of_distances'] = sum_of_distances"
   ]
  },
  {
   "cell_type": "code",
   "execution_count": null,
   "id": "94843210",
   "metadata": {},
   "outputs": [],
   "source": [
    "df.to_csv(\"Output/spanish_companies_sum_of_distances.csv\")"
   ]
  },
  {
   "cell_type": "code",
   "execution_count": null,
   "id": "53be9bec",
   "metadata": {},
   "outputs": [],
   "source": [
    "df = pd.read_csv('Output/spanish_companies_sum_of_distances.csv')\n",
    "df = df.set_index('Unnamed: 0')\n",
    "df.index.name = None\n",
    "df"
   ]
  },
  {
   "cell_type": "code",
   "execution_count": null,
   "id": "006bc216",
   "metadata": {
    "scrolled": true
   },
   "outputs": [],
   "source": [
    "idx_min = df[\"sum_of_distances\"].idxmin()"
   ]
  },
  {
   "cell_type": "code",
   "execution_count": null,
   "id": "965ca96b",
   "metadata": {},
   "outputs": [],
   "source": [
    "val_min = df[\"sum_of_distances\"][df['city']==\"Valencia\"].idxmin()"
   ]
  },
  {
   "cell_type": "code",
   "execution_count": null,
   "id": "2932dcf3",
   "metadata": {},
   "outputs": [],
   "source": [
    "bcn_min = df[\"sum_of_distances\"][df['city']==\"Barcelona\"].idxmin()"
   ]
  },
  {
   "cell_type": "code",
   "execution_count": null,
   "id": "5c956b5d",
   "metadata": {},
   "outputs": [],
   "source": [
    "mad_min = df[\"sum_of_distances\"][df['city']==\"Madrid\"].idxmin()"
   ]
  },
  {
   "cell_type": "code",
   "execution_count": null,
   "id": "96c83ccb",
   "metadata": {},
   "outputs": [],
   "source": [
    "venue_location = [df.at[idx_min, \"latitude\"], df.at[idx_min, \"longitude\"]]\n",
    "map_1 = folium.Map(venue_location, zoom_start=17)"
   ]
  },
  {
   "cell_type": "code",
   "execution_count": null,
   "id": "8ad2a4ae",
   "metadata": {},
   "outputs": [],
   "source": [
    "venue_icon = Icon(color=\"orange\",\n",
    "           opacity=0.1,\n",
    "           prefix=\"fa\",\n",
    "           icon=\"building\",\n",
    "           icon_color=\"black\")\n",
    "venue_marker = folium.Marker(venue_location, tooltip=\"Venue\", icon=venue_icon)\n",
    "venue_marker.add_to(map_1)"
   ]
  },
  {
   "cell_type": "code",
   "execution_count": null,
   "id": "49e40b81",
   "metadata": {},
   "outputs": [],
   "source": [
    "design_location = [39.469913, -0.373776]\n",
    "coordinates = [venue_location, design_location]\n",
    "distance = df.at[idx_min,\"design_distance\"]\n",
    "my_PolyLine=folium.PolyLine(locations=coordinates,tooltip=f\"Distance: {distance}m\",color='pink',weight=10)\n",
    "map_1.add_child(my_PolyLine)\n",
    "design_icon = Icon(color=\"pink\",\n",
    "           opacity=0.1,\n",
    "           prefix=\"fa\",\n",
    "           icon=\"paint-brush\",\n",
    "           icon_color=\"black\")\n",
    "design_marker = folium.Marker(design_location, tooltip=\"Design Company\", icon=design_icon)\n",
    "design_marker.add_to(map_1)"
   ]
  },
  {
   "cell_type": "code",
   "execution_count": null,
   "id": "992e0cc2",
   "metadata": {
    "scrolled": false
   },
   "outputs": [],
   "source": [
    "school_location = [39.468421, -0.378141]\n",
    "coordinates = [venue_location, school_location]\n",
    "distance = df.at[idx_min,\"school_distance\"]\n",
    "my_PolyLine=folium.PolyLine(locations=coordinates,tooltip=f\"Distance: {distance}m\",color='purple',weight=10)\n",
    "map_1.add_child(my_PolyLine)\n",
    "school_icon = Icon(color=\"purple\",\n",
    "           opacity=0.1,\n",
    "           prefix=\"fa\",\n",
    "           icon=\"graduation-cap\",\n",
    "           icon_color=\"black\")\n",
    "school_marker = folium.Marker(school_location, tooltip=\"School\", icon=school_icon)\n",
    "school_marker.add_to(map_1)"
   ]
  },
  {
   "cell_type": "code",
   "execution_count": null,
   "id": "c1630902",
   "metadata": {},
   "outputs": [],
   "source": [
    "tech_location = [39.4698, -0.373265]\n",
    "coordinates = [venue_location, tech_location]\n",
    "distance = df.at[idx_min,\"tech_distance\"]\n",
    "my_PolyLine=folium.PolyLine(locations=coordinates,tooltip=f\"Distance: {distance}m\",color='blue',weight=10)\n",
    "map_1.add_child(my_PolyLine)\n",
    "tech_icon = Icon(color=\"blue\",\n",
    "           opacity=0.1,\n",
    "           prefix=\"fa\",\n",
    "           icon=\"desktop\",\n",
    "           icon_color=\"black\")\n",
    "tech_marker = folium.Marker(tech_location, tooltip=\"Tech Company\", icon=tech_icon)\n",
    "tech_marker.add_to(map_1)"
   ]
  },
  {
   "cell_type": "code",
   "execution_count": null,
   "id": "00e0f655",
   "metadata": {},
   "outputs": [],
   "source": [
    "cafe_location = [39.467075, -0.374612]\n",
    "coordinates = [venue_location, cafe_location]\n",
    "distance = df.at[idx_min,\"starbucks_distance\"]\n",
    "my_PolyLine=folium.PolyLine(locations=coordinates,tooltip=f\"Distance: {distance}m\",color='darkgreen',weight=10)\n",
    "map_1.add_child(my_PolyLine)\n",
    "cafe_icon = Icon(color=\"darkgreen\",\n",
    "           opacity=0.1,\n",
    "           prefix=\"fa\",\n",
    "           icon=\"coffee\",\n",
    "           icon_color=\"black\")\n",
    "cafe_marker = folium.Marker(cafe_location, tooltip=\"Starbucks\", icon=cafe_icon)\n",
    "cafe_marker.add_to(map_1)"
   ]
  },
  {
   "cell_type": "code",
   "execution_count": null,
   "id": "050f629d",
   "metadata": {},
   "outputs": [],
   "source": [
    "airport_location = [39.491404, -0.473393]\n",
    "coordinates = [venue_location, airport_location]\n",
    "distance = df.at[idx_min,\"airport_distance\"]\n",
    "my_PolyLine=folium.PolyLine(locations=coordinates,tooltip=f\"Distance: 8976m\",color='gray',weight=10)\n",
    "map_1.add_child(my_PolyLine)\n",
    "airport_icon = Icon(color=\"gray\",\n",
    "           opacity=0.1,\n",
    "           prefix=\"fa\",\n",
    "           icon=\"plane\",\n",
    "           icon_color=\"black\")\n",
    "airport_marker = folium.Marker(airport_location, tooltip=\"Airport\", icon=airport_icon)\n",
    "airport_marker.add_to(map_1)"
   ]
  },
  {
   "cell_type": "code",
   "execution_count": null,
   "id": "2dd50b5d",
   "metadata": {},
   "outputs": [],
   "source": [
    "party_location = [39.463429, -0.372434]\n",
    "coordinates = [venue_location, party_location]\n",
    "distance = df.at[idx_min,\"party_distance\"]\n",
    "my_PolyLine=folium.PolyLine(locations=coordinates,tooltip=f\"Distance: {distance}m\",color='darkred',weight=10)\n",
    "map_1.add_child(my_PolyLine)\n",
    "party_icon = Icon(color=\"darkred\",\n",
    "           opacity=0.1,\n",
    "           prefix=\"fa\",\n",
    "           icon=\"beer\",\n",
    "           icon_color=\"black\")\n",
    "party_marker = folium.Marker(party_location, tooltip=\"Party\", icon=party_icon)\n",
    "party_marker.add_to(map_1)"
   ]
  },
  {
   "cell_type": "code",
   "execution_count": null,
   "id": "1c03efed",
   "metadata": {},
   "outputs": [],
   "source": [
    "vegan_location = [39.469071, -0.377547]\n",
    "coordinates = [venue_location, vegan_location]\n",
    "distance = df.at[idx_min,\"vegan_distance\"]\n",
    "my_PolyLine=folium.PolyLine(locations=coordinates,tooltip=f\"Distance: {distance}m\",color='cadetblue',weight=10)\n",
    "map_1.add_child(my_PolyLine)\n",
    "vegan_icon = Icon(color=\"cadetblue\",\n",
    "           opacity=0.1,\n",
    "           prefix=\"fa\",\n",
    "           icon=\"cutlery\",\n",
    "           icon_color=\"black\")\n",
    "vegan_marker = folium.Marker(vegan_location, tooltip=\"Vegan Restaurant\", icon=vegan_icon)\n",
    "vegan_marker.add_to(map_1)"
   ]
  },
  {
   "cell_type": "code",
   "execution_count": null,
   "id": "3f9103a8",
   "metadata": {},
   "outputs": [],
   "source": [
    "basketball_location = [39.451829, -0.366131]\n",
    "coordinates = [venue_location, basketball_location]\n",
    "distance = df.at[idx_min,\"basketball_distance\"]\n",
    "my_PolyLine=folium.PolyLine(locations=coordinates,tooltip=f\"Distance: {distance}m\",color='lightgreen',weight=10)\n",
    "map_1.add_child(my_PolyLine)\n",
    "basketball_icon = Icon(color=\"lightgreen\",\n",
    "           opacity=0.1,\n",
    "           prefix=\"fa\",\n",
    "           icon=\"support\",\n",
    "           icon_color=\"black\")\n",
    "basketball_marker = folium.Marker(basketball_location, tooltip=\"Basketball Stadium\", icon=basketball_icon)\n",
    "basketball_marker.add_to(map_1)"
   ]
  },
  {
   "cell_type": "code",
   "execution_count": null,
   "id": "547dcad2",
   "metadata": {},
   "outputs": [],
   "source": [
    "dog_location = [39.459688, -0.383472]\n",
    "coordinates = [venue_location, dog_location]\n",
    "distance = df.at[idx_min,\"dog_distance\"]\n",
    "my_PolyLine=folium.PolyLine(locations=coordinates,tooltip=f\"Distance: {distance}m\",color='red',weight=10)\n",
    "map_1.add_child(my_PolyLine)\n",
    "dog_icon = Icon(color=\"red\",\n",
    "           opacity=0.1,\n",
    "           prefix=\"fa\",\n",
    "           icon=\"paw\",\n",
    "           icon_color=\"black\")\n",
    "dog_marker = folium.Marker(dog_location, tooltip=\"Dog Hairdresser\", icon=dog_icon)\n",
    "dog_marker.add_to(map_1)"
   ]
  },
  {
   "cell_type": "code",
   "execution_count": null,
   "id": "f36ca257",
   "metadata": {},
   "outputs": [],
   "source": [
    "map_1"
   ]
  },
  {
   "cell_type": "code",
   "execution_count": null,
   "id": "c410e293",
   "metadata": {},
   "outputs": [],
   "source": [
    "venue_location = [df.at[bcn_min, \"latitude\"], df.at[bcn_min, \"longitude\"]]\n",
    "map_2 = folium.Map(venue_location, zoom_start=17)"
   ]
  },
  {
   "cell_type": "code",
   "execution_count": null,
   "id": "d835413d",
   "metadata": {},
   "outputs": [],
   "source": [
    "venue_icon = Icon(color=\"orange\",\n",
    "           opacity=0.1,\n",
    "           prefix=\"fa\",\n",
    "           icon=\"building\",\n",
    "           icon_color=\"black\")\n",
    "venue_marker = folium.Marker(venue_location, tooltip=\"Venue\", icon=venue_icon)\n",
    "venue_marker.add_to(map_2)"
   ]
  },
  {
   "cell_type": "code",
   "execution_count": null,
   "id": "49495c2e",
   "metadata": {},
   "outputs": [],
   "source": [
    "design_location = [41.389258, 2.128659]\n",
    "coordinates = [venue_location, design_location]\n",
    "distance = df.at[bcn_min,\"design_distance\"]\n",
    "my_PolyLine=folium.PolyLine(locations=coordinates,tooltip=f\"Distance: {distance}m\",color='pink',weight=10)\n",
    "map_2.add_child(my_PolyLine)\n",
    "design_icon = Icon(color=\"pink\",\n",
    "           opacity=0.1,\n",
    "           prefix=\"fa\",\n",
    "           icon=\"paint-brush\",\n",
    "           icon_color=\"black\")\n",
    "design_marker = folium.Marker(design_location, tooltip=\"Design Company\", icon=design_icon)\n",
    "design_marker.add_to(map_2)"
   ]
  },
  {
   "cell_type": "code",
   "execution_count": null,
   "id": "3a5b00d9",
   "metadata": {
    "scrolled": false
   },
   "outputs": [],
   "source": [
    "school_location = [41.39262, 2.129386]\n",
    "coordinates = [venue_location, school_location]\n",
    "distance = df.at[bcn_min,\"school_distance\"]\n",
    "my_PolyLine=folium.PolyLine(locations=coordinates,tooltip=f\"Distance: {distance}m\",color='purple',weight=10)\n",
    "map_2.add_child(my_PolyLine)\n",
    "school_icon = Icon(color=\"purple\",\n",
    "           opacity=0.1,\n",
    "           prefix=\"fa\",\n",
    "           icon=\"graduation-cap\",\n",
    "           icon_color=\"black\")\n",
    "school_marker = folium.Marker(school_location, tooltip=\"School\", icon=school_icon)\n",
    "school_marker.add_to(map_2)"
   ]
  },
  {
   "cell_type": "code",
   "execution_count": null,
   "id": "697e8e3b",
   "metadata": {},
   "outputs": [],
   "source": [
    "tech_location = [41.388623, 2.130295]\n",
    "coordinates = [venue_location, tech_location]\n",
    "distance = df.at[bcn_min,\"tech_distance\"]\n",
    "my_PolyLine=folium.PolyLine(locations=coordinates,tooltip=f\"Distance: {distance}m\",color='blue',weight=10)\n",
    "map_2.add_child(my_PolyLine)\n",
    "tech_icon = Icon(color=\"blue\",\n",
    "           opacity=0.1,\n",
    "           prefix=\"fa\",\n",
    "           icon=\"desktop\",\n",
    "           icon_color=\"black\")\n",
    "tech_marker = folium.Marker(tech_location, tooltip=\"Tech Company\", icon=tech_icon)\n",
    "tech_marker.add_to(map_2)"
   ]
  },
  {
   "cell_type": "code",
   "execution_count": null,
   "id": "f267c3ac",
   "metadata": {},
   "outputs": [],
   "source": [
    "cafe_location = [41.388763, 2.130817]\n",
    "coordinates = [venue_location, cafe_location]\n",
    "distance = df.at[bcn_min,\"starbucks_distance\"]\n",
    "my_PolyLine=folium.PolyLine(locations=coordinates,tooltip=f\"Distance: {distance}m\",color='darkgreen',weight=10)\n",
    "map_2.add_child(my_PolyLine)\n",
    "cafe_icon = Icon(color=\"darkgreen\",\n",
    "           opacity=0.1,\n",
    "           prefix=\"fa\",\n",
    "           icon=\"coffee\",\n",
    "           icon_color=\"black\")\n",
    "cafe_marker = folium.Marker(cafe_location, tooltip=\"Starbucks\", icon=cafe_icon)\n",
    "cafe_marker.add_to(map_2)"
   ]
  },
  {
   "cell_type": "code",
   "execution_count": null,
   "id": "39953b7b",
   "metadata": {},
   "outputs": [],
   "source": [
    "airport_location = [41.289084, 2.073963]\n",
    "coordinates = [venue_location, airport_location]\n",
    "distance = df.at[bcn_min,\"airport_distance\"]\n",
    "my_PolyLine=folium.PolyLine(locations=coordinates,tooltip=f\"Distance: 8976m\",color='gray',weight=10)\n",
    "map_2.add_child(my_PolyLine)\n",
    "airport_icon = Icon(color=\"gray\",\n",
    "           opacity=0.1,\n",
    "           prefix=\"fa\",\n",
    "           icon=\"plane\",\n",
    "           icon_color=\"black\")\n",
    "airport_marker = folium.Marker(airport_location, tooltip=\"Airport\", icon=airport_icon)\n",
    "airport_marker.add_to(map_2)"
   ]
  },
  {
   "cell_type": "code",
   "execution_count": null,
   "id": "6775667f",
   "metadata": {},
   "outputs": [],
   "source": [
    "party_location = [41.389888, 2.135753]\n",
    "coordinates = [venue_location, party_location]\n",
    "distance = df.at[bcn_min,\"party_distance\"]\n",
    "my_PolyLine=folium.PolyLine(locations=coordinates,tooltip=f\"Distance: {distance}m\",color='darkred',weight=10)\n",
    "map_2.add_child(my_PolyLine)\n",
    "party_icon = Icon(color=\"darkred\",\n",
    "           opacity=0.1,\n",
    "           prefix=\"fa\",\n",
    "           icon=\"beer\",\n",
    "           icon_color=\"black\")\n",
    "party_marker = folium.Marker(party_location, tooltip=\"Party\", icon=party_icon)\n",
    "party_marker.add_to(map_2)"
   ]
  },
  {
   "cell_type": "code",
   "execution_count": null,
   "id": "1816e9d8",
   "metadata": {},
   "outputs": [],
   "source": [
    "vegan_location = [41.377077, 2.122568]\n",
    "coordinates = [venue_location, vegan_location]\n",
    "distance = df.at[bcn_min,\"vegan_distance\"]\n",
    "my_PolyLine=folium.PolyLine(locations=coordinates,tooltip=f\"Distance: {distance}m\",color='cadetblue',weight=10)\n",
    "map_2.add_child(my_PolyLine)\n",
    "vegan_icon = Icon(color=\"cadetblue\",\n",
    "           opacity=0.1,\n",
    "           prefix=\"fa\",\n",
    "           icon=\"cutlery\",\n",
    "           icon_color=\"black\")\n",
    "vegan_marker = folium.Marker(vegan_location, tooltip=\"Vegan Restaurant\", icon=vegan_icon)\n",
    "vegan_marker.add_to(map_2)"
   ]
  },
  {
   "cell_type": "code",
   "execution_count": null,
   "id": "5306090f",
   "metadata": {},
   "outputs": [],
   "source": [
    "basketball_location = [41.380163, 2.120141]\n",
    "coordinates = [venue_location, basketball_location]\n",
    "distance = df.at[bcn_min,\"basketball_distance\"]\n",
    "my_PolyLine=folium.PolyLine(locations=coordinates,tooltip=f\"Distance: {distance}m\",color='lightgreen',weight=10)\n",
    "map_2.add_child(my_PolyLine)\n",
    "basketball_icon = Icon(color=\"lightgreen\",\n",
    "           opacity=0.1,\n",
    "           prefix=\"fa\",\n",
    "           icon=\"support\",\n",
    "           icon_color=\"black\")\n",
    "basketball_marker = folium.Marker(basketball_location, tooltip=\"Basketball Stadium\", icon=basketball_icon)\n",
    "basketball_marker.add_to(map_2)"
   ]
  },
  {
   "cell_type": "code",
   "execution_count": null,
   "id": "20c18dc4",
   "metadata": {},
   "outputs": [],
   "source": [
    "dog_location = [41.386995, 2.130976]\n",
    "coordinates = [venue_location, dog_location]\n",
    "distance = df.at[bcn_min,\"dog_distance\"]\n",
    "my_PolyLine=folium.PolyLine(locations=coordinates,tooltip=f\"Distance: {distance}m\",color='red',weight=10)\n",
    "map_2.add_child(my_PolyLine)\n",
    "dog_icon = Icon(color=\"red\",\n",
    "           opacity=0.1,\n",
    "           prefix=\"fa\",\n",
    "           icon=\"paw\",\n",
    "           icon_color=\"black\")\n",
    "dog_marker = folium.Marker(dog_location, tooltip=\"Dog Hairdresser\", icon=dog_icon)\n",
    "dog_marker.add_to(map_2)"
   ]
  },
  {
   "cell_type": "code",
   "execution_count": null,
   "id": "cc787f5b",
   "metadata": {},
   "outputs": [],
   "source": [
    "map_2"
   ]
  },
  {
   "cell_type": "code",
   "execution_count": null,
   "id": "7cfe31af",
   "metadata": {},
   "outputs": [],
   "source": [
    "venue_location = [df.at[mad_min, \"latitude\"], df.at[mad_min, \"longitude\"]]\n",
    "map_3 = folium.Map(venue_location, zoom_start=17)"
   ]
  },
  {
   "cell_type": "code",
   "execution_count": null,
   "id": "529aa6ec",
   "metadata": {},
   "outputs": [],
   "source": [
    "venue_icon = Icon(color=\"orange\",\n",
    "           opacity=0.1,\n",
    "           prefix=\"fa\",\n",
    "           icon=\"building\",\n",
    "           icon_color=\"black\")\n",
    "venue_marker = folium.Marker(venue_location, tooltip=\"Venue\", icon=venue_icon)\n",
    "venue_marker.add_to(map_3)"
   ]
  },
  {
   "cell_type": "code",
   "execution_count": null,
   "id": "869842c4",
   "metadata": {},
   "outputs": [],
   "source": [
    "design_location = [40.422644, -3.709948]\n",
    "coordinates = [venue_location, design_location]\n",
    "distance = df.at[mad_min,\"design_distance\"]\n",
    "my_PolyLine=folium.PolyLine(locations=coordinates,tooltip=f\"Distance: {distance}m\",color='pink',weight=10)\n",
    "map_3.add_child(my_PolyLine)\n",
    "design_icon = Icon(color=\"pink\",\n",
    "           opacity=0.1,\n",
    "           prefix=\"fa\",\n",
    "           icon=\"paint-brush\",\n",
    "           icon_color=\"black\")\n",
    "design_marker = folium.Marker(design_location, tooltip=\"Design Company\", icon=design_icon)\n",
    "design_marker.add_to(map_3)"
   ]
  },
  {
   "cell_type": "code",
   "execution_count": null,
   "id": "8e60e636",
   "metadata": {
    "scrolled": false
   },
   "outputs": [],
   "source": [
    "school_location = [40.424884, -3.714747]\n",
    "coordinates = [venue_location, school_location]\n",
    "distance = df.at[mad_min,\"school_distance\"]\n",
    "my_PolyLine=folium.PolyLine(locations=coordinates,tooltip=f\"Distance: {distance}m\",color='purple',weight=10)\n",
    "map_3.add_child(my_PolyLine)\n",
    "school_icon = Icon(color=\"purple\",\n",
    "           opacity=0.1,\n",
    "           prefix=\"fa\",\n",
    "           icon=\"graduation-cap\",\n",
    "           icon_color=\"black\")\n",
    "school_marker = folium.Marker(school_location, tooltip=\"School\", icon=school_icon)\n",
    "school_marker.add_to(map_3)"
   ]
  },
  {
   "cell_type": "code",
   "execution_count": null,
   "id": "ccf36a65",
   "metadata": {},
   "outputs": [],
   "source": [
    "tech_location = [40.423712, -3.707406]\n",
    "coordinates = [venue_location, tech_location]\n",
    "distance = df.at[mad_min,\"tech_distance\"]\n",
    "my_PolyLine=folium.PolyLine(locations=coordinates,tooltip=f\"Distance: {distance}m\",color='blue',weight=10)\n",
    "map_3.add_child(my_PolyLine)\n",
    "tech_icon = Icon(color=\"blue\",\n",
    "           opacity=0.1,\n",
    "           prefix=\"fa\",\n",
    "           icon=\"desktop\",\n",
    "           icon_color=\"black\")\n",
    "tech_marker = folium.Marker(tech_location, tooltip=\"Tech Company\", icon=tech_icon)\n",
    "tech_marker.add_to(map_3)"
   ]
  },
  {
   "cell_type": "code",
   "execution_count": null,
   "id": "841ced52",
   "metadata": {},
   "outputs": [],
   "source": [
    "cafe_location = [40.42332, -3.710883]\n",
    "coordinates = [venue_location, cafe_location]\n",
    "distance = df.at[mad_min,\"starbucks_distance\"]\n",
    "my_PolyLine=folium.PolyLine(locations=coordinates,tooltip=f\"Distance: {distance}m\",color='darkgreen',weight=10)\n",
    "map_3.add_child(my_PolyLine)\n",
    "cafe_icon = Icon(color=\"darkgreen\",\n",
    "           opacity=0.1,\n",
    "           prefix=\"fa\",\n",
    "           icon=\"coffee\",\n",
    "           icon_color=\"black\")\n",
    "cafe_marker = folium.Marker(cafe_location, tooltip=\"Starbucks\", icon=cafe_icon)\n",
    "cafe_marker.add_to(map_3)"
   ]
  },
  {
   "cell_type": "code",
   "execution_count": null,
   "id": "ba313fd1",
   "metadata": {},
   "outputs": [],
   "source": [
    "airport_location = [40.484793, -3.568002]\n",
    "coordinates = [venue_location, airport_location]\n",
    "distance = df.at[mad_min,\"airport_distance\"]\n",
    "my_PolyLine=folium.PolyLine(locations=coordinates,tooltip=f\"Distance: 8976m\",color='gray',weight=10)\n",
    "map_3.add_child(my_PolyLine)\n",
    "airport_icon = Icon(color=\"gray\",\n",
    "           opacity=0.1,\n",
    "           prefix=\"fa\",\n",
    "           icon=\"plane\",\n",
    "           icon_color=\"black\")\n",
    "airport_marker = folium.Marker(airport_location, tooltip=\"Airport\", icon=airport_icon)\n",
    "airport_marker.add_to(map_3)"
   ]
  },
  {
   "cell_type": "code",
   "execution_count": null,
   "id": "5f8b37ee",
   "metadata": {},
   "outputs": [],
   "source": [
    "party_location = [40.432319, -3.698027]\n",
    "coordinates = [venue_location, party_location]\n",
    "distance = df.at[mad_min,\"party_distance\"]\n",
    "my_PolyLine=folium.PolyLine(locations=coordinates,tooltip=f\"Distance: {distance}m\",color='darkred',weight=10)\n",
    "map_3.add_child(my_PolyLine)\n",
    "party_icon = Icon(color=\"darkred\",\n",
    "           opacity=0.1,\n",
    "           prefix=\"fa\",\n",
    "           icon=\"beer\",\n",
    "           icon_color=\"black\")\n",
    "party_marker = folium.Marker(party_location, tooltip=\"Party\", icon=party_icon)\n",
    "party_marker.add_to(map_3)"
   ]
  },
  {
   "cell_type": "code",
   "execution_count": null,
   "id": "60a40106",
   "metadata": {},
   "outputs": [],
   "source": [
    "vegan_location = [40.424878, -3.715591]\n",
    "coordinates = [venue_location, vegan_location]\n",
    "distance = df.at[mad_min,\"vegan_distance\"]\n",
    "my_PolyLine=folium.PolyLine(locations=coordinates,tooltip=f\"Distance: {distance}m\",color='cadetblue',weight=10)\n",
    "map_3.add_child(my_PolyLine)\n",
    "vegan_icon = Icon(color=\"cadetblue\",\n",
    "           opacity=0.1,\n",
    "           prefix=\"fa\",\n",
    "           icon=\"cutlery\",\n",
    "           icon_color=\"black\")\n",
    "vegan_marker = folium.Marker(vegan_location, tooltip=\"Vegan Restaurant\", icon=vegan_icon)\n",
    "vegan_marker.add_to(map_3)"
   ]
  },
  {
   "cell_type": "code",
   "execution_count": null,
   "id": "750d95f6",
   "metadata": {},
   "outputs": [],
   "source": [
    "basketball_location = [40.430009, -3.708137]\n",
    "coordinates = [venue_location, basketball_location]\n",
    "distance = df.at[mad_min,\"basketball_distance\"]\n",
    "my_PolyLine=folium.PolyLine(locations=coordinates,tooltip=f\"Distance: {distance}m\",color='lightgreen',weight=10)\n",
    "map_3.add_child(my_PolyLine)\n",
    "basketball_icon = Icon(color=\"lightgreen\",\n",
    "           opacity=0.1,\n",
    "           prefix=\"fa\",\n",
    "           icon=\"support\",\n",
    "           icon_color=\"black\")\n",
    "basketball_marker = folium.Marker(basketball_location, tooltip=\"Basketball Stadium\", icon=basketball_icon)\n",
    "basketball_marker.add_to(map_3)"
   ]
  },
  {
   "cell_type": "code",
   "execution_count": null,
   "id": "c96db3ee",
   "metadata": {},
   "outputs": [],
   "source": [
    "dog_location = [40.436567, -3.712888]\n",
    "coordinates = [venue_location, dog_location]\n",
    "distance = df.at[mad_min,\"dog_distance\"]\n",
    "my_PolyLine=folium.PolyLine(locations=coordinates,tooltip=f\"Distance: {distance}m\",color='red',weight=10)\n",
    "map_3.add_child(my_PolyLine)\n",
    "dog_icon = Icon(color=\"red\",\n",
    "           opacity=0.1,\n",
    "           prefix=\"fa\",\n",
    "           icon=\"paw\",\n",
    "           icon_color=\"black\")\n",
    "dog_marker = folium.Marker(dog_location, tooltip=\"Dog Hairdresser\", icon=dog_icon)\n",
    "dog_marker.add_to(map_3)"
   ]
  },
  {
   "cell_type": "code",
   "execution_count": null,
   "id": "7b0788d4",
   "metadata": {},
   "outputs": [],
   "source": [
    "map_3"
   ]
  }
 ],
 "metadata": {
  "kernelspec": {
   "display_name": "Python 3 (ipykernel)",
   "language": "python",
   "name": "python3"
  },
  "language_info": {
   "codemirror_mode": {
    "name": "ipython",
    "version": 3
   },
   "file_extension": ".py",
   "mimetype": "text/x-python",
   "name": "python",
   "nbconvert_exporter": "python",
   "pygments_lexer": "ipython3",
   "version": "3.9.12"
  }
 },
 "nbformat": 4,
 "nbformat_minor": 5
}
