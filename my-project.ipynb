{
 "cells": [
  {
   "cell_type": "code",
   "execution_count": 147,
   "id": "0c7762bf",
   "metadata": {},
   "outputs": [],
   "source": [
    "import os\n",
    "import requests\n",
    "import json\n",
    "from dotenv import load_dotenv\n",
    "import pandas as pd\n",
    "import geopandas as gpd\n",
    "from cartoframes.viz import Map, Layer, popup_element\n",
    "from pymongo import MongoClient\n",
    "from pymongo import GEOSPHERE\n",
    "import math\n",
    "import numpy as np"
   ]
  },
  {
   "cell_type": "code",
   "execution_count": 2,
   "id": "e1a0b623",
   "metadata": {},
   "outputs": [
    {
     "data": {
      "text/plain": [
       "True"
      ]
     },
     "execution_count": 2,
     "metadata": {},
     "output_type": "execute_result"
    }
   ],
   "source": [
    "load_dotenv()"
   ]
  },
  {
   "cell_type": "code",
   "execution_count": 3,
   "id": "110d3b70",
   "metadata": {},
   "outputs": [],
   "source": [
    "key = os.getenv(\"KEY\")"
   ]
  },
  {
   "cell_type": "code",
   "execution_count": 4,
   "id": "f02b7465",
   "metadata": {},
   "outputs": [],
   "source": [
    "def get_results_from_foursquare (query, location, limit):\n",
    "    url = f\"https://api.foursquare.com/v3/places/search?query={query}&ll={location[0]}%2C{location[1]}&sort=DISTANCE&{limit}=5\"\n",
    "    headers = {\n",
    "        \"Accept\": \"application/json\",\n",
    "        \"Authorization\": key\n",
    "    }\n",
    "    response = requests.get(url, headers=headers)\n",
    "    return response.json()[\"results\"]"
   ]
  },
  {
   "cell_type": "code",
   "execution_count": 5,
   "id": "ecc040ce",
   "metadata": {},
   "outputs": [],
   "source": [
    "query = \"cafe\"\n",
    "Ironhack_lat=41.3977737\n",
    "Ironhack_lon=2.1882674\n",
    "location = [Ironhack_lat, Ironhack_lon]\n",
    "limit = 10\n",
    "results = get_results_from_foursquare (query, location, limit)"
   ]
  },
  {
   "cell_type": "code",
   "execution_count": 32,
   "id": "7f0d5451",
   "metadata": {},
   "outputs": [],
   "source": [
    "client = MongoClient(\"localhost:27017\")\n",
    "db = client.get_database(\"Ironhack\")"
   ]
  },
  {
   "cell_type": "code",
   "execution_count": 57,
   "id": "a3744106",
   "metadata": {},
   "outputs": [],
   "source": [
    "companies = db.get_collection(\"companies\")"
   ]
  },
  {
   "cell_type": "code",
   "execution_count": 90,
   "id": "b058a64a",
   "metadata": {},
   "outputs": [],
   "source": [
    "valencia_companies = list(companies.find({\"offices.city\":\"Valencia\"}))\n",
    "barcelona_companies = list(companies.find({\"offices.city\":\"Barcelona\"}))\n",
    "madrid_companies = list(companies.find({\"offices.city\":\"Madrid\"}))\n",
    "spain_companies = [valencia_companies, barcelona_companies, madrid_companies]"
   ]
  },
  {
   "cell_type": "code",
   "execution_count": 116,
   "id": "bcd523ac",
   "metadata": {},
   "outputs": [],
   "source": [
    "name = []\n",
    "city = []\n",
    "office_number = []\n",
    "address = []\n",
    "latitude = []\n",
    "longitude = []\n",
    "for each_city in spain_companies:\n",
    "    for company in each_city:\n",
    "        try:\n",
    "            for i in range(len(company[\"offices\"])):\n",
    "                n = 0\n",
    "                if company[\"offices\"][i][\"city\"] in [\"Valencia\", \"Barcelona\", \"Madrid\"]:\n",
    "                    n += 1\n",
    "                    name.append(company[\"name\"])\n",
    "                    city.append(company[\"offices\"][i][\"city\"])\n",
    "                    office_number.append(n)\n",
    "                    address.append(company[\"offices\"][i][\"address1\"])\n",
    "                    latitude.append(company[\"offices\"][i][\"latitude\"])\n",
    "                    longitude.append(company[\"offices\"][i][\"longitude\"])\n",
    "        except:\n",
    "            pass"
   ]
  },
  {
   "cell_type": "code",
   "execution_count": 125,
   "id": "564e1c6d",
   "metadata": {},
   "outputs": [],
   "source": [
    "spain_dict = {\"name\":name, \"city\":city, \"office_number\":office_number, \"address\":address, \"latitude\":latitude, \"longitude\":longitude}"
   ]
  },
  {
   "cell_type": "code",
   "execution_count": 126,
   "id": "8fa65ac7",
   "metadata": {},
   "outputs": [],
   "source": [
    "df = pd.DataFrame.from_dict(spain_dict)"
   ]
  },
  {
   "cell_type": "code",
   "execution_count": 148,
   "id": "4ed73f1c",
   "metadata": {},
   "outputs": [],
   "source": [
    "df['address'].replace('', np.nan, inplace=True)"
   ]
  },
  {
   "cell_type": "code",
   "execution_count": 152,
   "id": "07169c7b",
   "metadata": {},
   "outputs": [],
   "source": [
    "df = df.dropna(subset=[\"address\", \"latitude\", \"longitude\"], how='all')"
   ]
  },
  {
   "cell_type": "code",
   "execution_count": 161,
   "id": "03d0dc2b",
   "metadata": {},
   "outputs": [],
   "source": [
    "def get_coordinates (place):\n",
    "    try:\n",
    "        res = requests.get(f\"https://geocode.xyz/{place}?json=1\").json()\n",
    "        return [res[\"longt\"],res[\"latt\"]]\n",
    "    except:\n",
    "        return [np.nan, np.nan]"
   ]
  },
  {
   "cell_type": "code",
   "execution_count": null,
   "id": "9c8a5d33",
   "metadata": {},
   "outputs": [],
   "source": [
    "for i in df.index.values.tolist():\n",
    "    if math.isnan(df.at[i, \"latitude\"]) or df.at[i, \"latitude\"]==0:\n",
    "        address_complete = df.at[i, \"address\"] + \", \" + df.at[i, \"city\"] + \", Spain\"\n",
    "        coordinates = get_coordinates(address_complete)\n",
    "        df.at[i, \"latitude\"]= float(coordinates[1])\n",
    "        df.at[i, \"longitude\"]= float(coordinates[0])"
   ]
  },
  {
   "cell_type": "code",
   "execution_count": 196,
   "id": "0ed13ed5",
   "metadata": {},
   "outputs": [],
   "source": [
    "for i in df.index.values.tolist():\n",
    "    if df.at[i, \"latitude\"] < 20:\n",
    "        latitude = df.at[i, \"latitude\"]\n",
    "        longitude = df.at[i, \"longitude\"]\n",
    "        df.at[i, \"latitude\"] = longitude\n",
    "        df.at[i, \"longitude\"] = latitude"
   ]
  },
  {
   "cell_type": "code",
   "execution_count": 198,
   "id": "bcf50b68",
   "metadata": {},
   "outputs": [
    {
     "name": "stderr",
     "output_type": "stream",
     "text": [
      "C:\\Users\\Daniel\\AppData\\Local\\Temp\\ipykernel_8060\\3028638243.py:1: SettingWithCopyWarning: \n",
      "A value is trying to be set on a copy of a slice from a DataFrame.\n",
      "Try using .loc[row_indexer,col_indexer] = value instead\n",
      "\n",
      "See the caveats in the documentation: https://pandas.pydata.org/pandas-docs/stable/user_guide/indexing.html#returning-a-view-versus-a-copy\n",
      "  df['latitude'] = df['latitude'].fillna(0)\n"
     ]
    }
   ],
   "source": [
    "df['latitude'] = df['latitude'].fillna(0)"
   ]
  },
  {
   "cell_type": "code",
   "execution_count": 200,
   "id": "b52de8e8",
   "metadata": {},
   "outputs": [
    {
     "name": "stderr",
     "output_type": "stream",
     "text": [
      "C:\\Users\\Daniel\\AppData\\Local\\Temp\\ipykernel_8060\\1358260333.py:1: SettingWithCopyWarning: \n",
      "A value is trying to be set on a copy of a slice from a DataFrame\n",
      "\n",
      "See the caveats in the documentation: https://pandas.pydata.org/pandas-docs/stable/user_guide/indexing.html#returning-a-view-versus-a-copy\n",
      "  df.drop(df[df.latitude < 30].index, inplace=True)\n"
     ]
    }
   ],
   "source": [
    "df.drop(df[df.latitude < 30].index, inplace=True)"
   ]
  },
  {
   "cell_type": "code",
   "execution_count": 209,
   "id": "80e5b7a8",
   "metadata": {},
   "outputs": [],
   "source": [
    "df.drop(df[df.longitude < -10].index, inplace=True)"
   ]
  },
  {
   "cell_type": "code",
   "execution_count": 210,
   "id": "866afba1",
   "metadata": {},
   "outputs": [],
   "source": [
    "df.to_csv(\"Output/spanish_companies.csv\")"
   ]
  },
  {
   "cell_type": "code",
   "execution_count": 211,
   "id": "1ce2fb05",
   "metadata": {},
   "outputs": [],
   "source": [
    "df = pd.read_csv('Output/spanish_companies.csv')"
   ]
  },
  {
   "cell_type": "code",
   "execution_count": 212,
   "id": "482f6657",
   "metadata": {},
   "outputs": [],
   "source": [
    "df = df.set_index('Unnamed: 0')\n",
    "df.index.name = None"
   ]
  },
  {
   "cell_type": "code",
   "execution_count": 244,
   "id": "f3daf0ea",
   "metadata": {},
   "outputs": [],
   "source": [
    "position = [\"Designer\", \"UI/UX Engineers\", \"Frontend Developers\", \"Data Engineers\", \n",
    "             \"Backend Developers\", \"Account Managers\", \"Maintenance\", \"Executives\", \"CEO\"]\n",
    "number_of_employees = [20, 5, 10, 15, 5, 20, 1, 10, 1]\n",
    "salary = [30000, 33000, 33000, 44000, 39000, 25000, 20000, 60000, 80000]"
   ]
  },
  {
   "cell_type": "code",
   "execution_count": 245,
   "id": "0a6e360c",
   "metadata": {},
   "outputs": [],
   "source": [
    "employees_dict = {\"position\":position, \"number_of_employees\":number_of_employees, \"salary\":salary}"
   ]
  },
  {
   "cell_type": "code",
   "execution_count": 246,
   "id": "d23dc30d",
   "metadata": {},
   "outputs": [],
   "source": [
    "df2 = pd.DataFrame.from_dict(employees_dict)"
   ]
  },
  {
   "cell_type": "code",
   "execution_count": 247,
   "id": "8b2be553",
   "metadata": {},
   "outputs": [
    {
     "data": {
      "text/html": [
       "<div>\n",
       "<style scoped>\n",
       "    .dataframe tbody tr th:only-of-type {\n",
       "        vertical-align: middle;\n",
       "    }\n",
       "\n",
       "    .dataframe tbody tr th {\n",
       "        vertical-align: top;\n",
       "    }\n",
       "\n",
       "    .dataframe thead th {\n",
       "        text-align: right;\n",
       "    }\n",
       "</style>\n",
       "<table border=\"1\" class=\"dataframe\">\n",
       "  <thead>\n",
       "    <tr style=\"text-align: right;\">\n",
       "      <th></th>\n",
       "      <th>position</th>\n",
       "      <th>number_of_employees</th>\n",
       "      <th>salary</th>\n",
       "    </tr>\n",
       "  </thead>\n",
       "  <tbody>\n",
       "    <tr>\n",
       "      <th>0</th>\n",
       "      <td>Designer</td>\n",
       "      <td>20</td>\n",
       "      <td>30000</td>\n",
       "    </tr>\n",
       "    <tr>\n",
       "      <th>1</th>\n",
       "      <td>UI/UX Engineers</td>\n",
       "      <td>5</td>\n",
       "      <td>33000</td>\n",
       "    </tr>\n",
       "    <tr>\n",
       "      <th>2</th>\n",
       "      <td>Frontend Developers</td>\n",
       "      <td>10</td>\n",
       "      <td>33000</td>\n",
       "    </tr>\n",
       "    <tr>\n",
       "      <th>3</th>\n",
       "      <td>Data Engineers</td>\n",
       "      <td>15</td>\n",
       "      <td>44000</td>\n",
       "    </tr>\n",
       "    <tr>\n",
       "      <th>4</th>\n",
       "      <td>Backend Developers</td>\n",
       "      <td>5</td>\n",
       "      <td>39000</td>\n",
       "    </tr>\n",
       "    <tr>\n",
       "      <th>5</th>\n",
       "      <td>Account Managers</td>\n",
       "      <td>20</td>\n",
       "      <td>25000</td>\n",
       "    </tr>\n",
       "    <tr>\n",
       "      <th>6</th>\n",
       "      <td>Maintenance</td>\n",
       "      <td>1</td>\n",
       "      <td>20000</td>\n",
       "    </tr>\n",
       "    <tr>\n",
       "      <th>7</th>\n",
       "      <td>Executives</td>\n",
       "      <td>10</td>\n",
       "      <td>60000</td>\n",
       "    </tr>\n",
       "    <tr>\n",
       "      <th>8</th>\n",
       "      <td>CEO</td>\n",
       "      <td>1</td>\n",
       "      <td>80000</td>\n",
       "    </tr>\n",
       "  </tbody>\n",
       "</table>\n",
       "</div>"
      ],
      "text/plain": [
       "              position  number_of_employees  salary\n",
       "0             Designer                   20   30000\n",
       "1      UI/UX Engineers                    5   33000\n",
       "2  Frontend Developers                   10   33000\n",
       "3       Data Engineers                   15   44000\n",
       "4   Backend Developers                    5   39000\n",
       "5     Account Managers                   20   25000\n",
       "6          Maintenance                    1   20000\n",
       "7           Executives                   10   60000\n",
       "8                  CEO                    1   80000"
      ]
     },
     "execution_count": 247,
     "metadata": {},
     "output_type": "execute_result"
    }
   ],
   "source": [
    "df2"
   ]
  },
  {
   "cell_type": "code",
   "execution_count": 267,
   "id": "476835ab",
   "metadata": {},
   "outputs": [
    {
     "data": {
      "text/plain": [
       "20"
      ]
     },
     "execution_count": 267,
     "metadata": {},
     "output_type": "execute_result"
    }
   ],
   "source": [
    "df2[df2['position'] == \"Designer\"].at[0, \"number_of_employees\"]"
   ]
  },
  {
   "cell_type": "code",
   "execution_count": 256,
   "id": "c18ebe61",
   "metadata": {},
   "outputs": [
    {
     "data": {
      "text/plain": [
       "['Designer',\n",
       " 'UI/UX Engineers',\n",
       " 'Frontend Developers',\n",
       " 'Data Engineers',\n",
       " 'Backend Developers',\n",
       " 'Account Managers',\n",
       " 'Maintenance',\n",
       " 'Executives',\n",
       " 'CEO']"
      ]
     },
     "execution_count": 256,
     "metadata": {},
     "output_type": "execute_result"
    }
   ],
   "source": [
    "list(df2[\"position\"].values)"
   ]
  },
  {
   "cell_type": "code",
   "execution_count": 317,
   "id": "18ab6f48",
   "metadata": {},
   "outputs": [],
   "source": [
    "requirements = [\"Design company\", \"Schools\", \"Successful tech startup\", \"Starbucks\", \"Airport\", \"Party\", \n",
    "                \"Vegan restaurant\", \"Basketball stadium\", \"Dog hairdresser\"]\n",
    "related_employees = [\"Designer\", \"30% of All\", \"Frontend Developers/Backend Developers\", \"Executives\", \"Account Managers\", \"All\", \n",
    "                     \"CEO\", \"Maintenance\", \"All\"]\n",
    "weight = [5, 10, 5, 4, 8, 2, 4, 4, 1]"
   ]
  },
  {
   "cell_type": "code",
   "execution_count": 318,
   "id": "fc575350",
   "metadata": {},
   "outputs": [],
   "source": [
    "requirements_dict = {\"requirements\":requirements, \"related_employees\":related_employees, \"weight\":weight}"
   ]
  },
  {
   "cell_type": "code",
   "execution_count": 319,
   "id": "b1f5f78f",
   "metadata": {},
   "outputs": [],
   "source": [
    "df3 = pd.DataFrame.from_dict(requirements_dict)"
   ]
  },
  {
   "cell_type": "code",
   "execution_count": 320,
   "id": "69a89fdc",
   "metadata": {},
   "outputs": [
    {
     "data": {
      "text/html": [
       "<div>\n",
       "<style scoped>\n",
       "    .dataframe tbody tr th:only-of-type {\n",
       "        vertical-align: middle;\n",
       "    }\n",
       "\n",
       "    .dataframe tbody tr th {\n",
       "        vertical-align: top;\n",
       "    }\n",
       "\n",
       "    .dataframe thead th {\n",
       "        text-align: right;\n",
       "    }\n",
       "</style>\n",
       "<table border=\"1\" class=\"dataframe\">\n",
       "  <thead>\n",
       "    <tr style=\"text-align: right;\">\n",
       "      <th></th>\n",
       "      <th>requirements</th>\n",
       "      <th>related_employees</th>\n",
       "      <th>weight</th>\n",
       "    </tr>\n",
       "  </thead>\n",
       "  <tbody>\n",
       "    <tr>\n",
       "      <th>0</th>\n",
       "      <td>Design company</td>\n",
       "      <td>Designer</td>\n",
       "      <td>5</td>\n",
       "    </tr>\n",
       "    <tr>\n",
       "      <th>1</th>\n",
       "      <td>Schools</td>\n",
       "      <td>30% of All</td>\n",
       "      <td>10</td>\n",
       "    </tr>\n",
       "    <tr>\n",
       "      <th>2</th>\n",
       "      <td>Successful tech startup</td>\n",
       "      <td>Frontend Developers/Backend Developers</td>\n",
       "      <td>5</td>\n",
       "    </tr>\n",
       "    <tr>\n",
       "      <th>3</th>\n",
       "      <td>Starbucks</td>\n",
       "      <td>Executives</td>\n",
       "      <td>4</td>\n",
       "    </tr>\n",
       "    <tr>\n",
       "      <th>4</th>\n",
       "      <td>Airport</td>\n",
       "      <td>Account Managers</td>\n",
       "      <td>8</td>\n",
       "    </tr>\n",
       "    <tr>\n",
       "      <th>5</th>\n",
       "      <td>Party</td>\n",
       "      <td>All</td>\n",
       "      <td>2</td>\n",
       "    </tr>\n",
       "    <tr>\n",
       "      <th>6</th>\n",
       "      <td>Vegan restaurant</td>\n",
       "      <td>CEO</td>\n",
       "      <td>4</td>\n",
       "    </tr>\n",
       "    <tr>\n",
       "      <th>7</th>\n",
       "      <td>Basketball stadium</td>\n",
       "      <td>Maintenance</td>\n",
       "      <td>4</td>\n",
       "    </tr>\n",
       "    <tr>\n",
       "      <th>8</th>\n",
       "      <td>Dog hairdresser</td>\n",
       "      <td>All</td>\n",
       "      <td>1</td>\n",
       "    </tr>\n",
       "  </tbody>\n",
       "</table>\n",
       "</div>"
      ],
      "text/plain": [
       "              requirements                       related_employees  weight\n",
       "0           Design company                                Designer       5\n",
       "1                  Schools                              30% of All      10\n",
       "2  Successful tech startup  Frontend Developers/Backend Developers       5\n",
       "3                Starbucks                              Executives       4\n",
       "4                  Airport                        Account Managers       8\n",
       "5                    Party                                     All       2\n",
       "6         Vegan restaurant                                     CEO       4\n",
       "7       Basketball stadium                             Maintenance       4\n",
       "8          Dog hairdresser                                     All       1"
      ]
     },
     "execution_count": 320,
     "metadata": {},
     "output_type": "execute_result"
    }
   ],
   "source": [
    "df3"
   ]
  },
  {
   "cell_type": "code",
   "execution_count": 321,
   "id": "75b2db43",
   "metadata": {},
   "outputs": [],
   "source": [
    "final_weight = []\n",
    "everyone = list(df2[\"position\"].values)\n",
    "related_employees = [[\"Designer\"], everyone, ['Frontend Developers', 'Backend Developers'], ['Executives'], ['Account Managers'], everyone, ['CEO'], ['Maintenance'], everyone] \n",
    "for i, employee_types in enumerate(related_employees):\n",
    "    weight = df3.at[i, \"weight\"]\n",
    "    final = 0\n",
    "    for employee_type in employee_types:\n",
    "        number_of_employees = list(df2.loc[df2['position'] == employee_type][\"number_of_employees\"].values)[0]\n",
    "        salary = list(df2.loc[df2['position'] == employee_type][\"salary\"].values)[0]\n",
    "        final += weight*number_of_employees*salary\n",
    "    if i == 1: \n",
    "        final *= 0.3\n",
    "    final_weight.append(int(final))"
   ]
  },
  {
   "cell_type": "code",
   "execution_count": 322,
   "id": "ced0b462",
   "metadata": {},
   "outputs": [
    {
     "data": {
      "text/plain": [
       "[3000000, 9450000, 2625000, 2400000, 4000000, 6300000, 320000, 80000, 3150000]"
      ]
     },
     "execution_count": 322,
     "metadata": {},
     "output_type": "execute_result"
    }
   ],
   "source": [
    "final_weight"
   ]
  },
  {
   "cell_type": "code",
   "execution_count": 323,
   "id": "547b1f7d",
   "metadata": {},
   "outputs": [],
   "source": [
    "df3['final_weight'] = final_weight"
   ]
  },
  {
   "cell_type": "code",
   "execution_count": 324,
   "id": "ee3b5078",
   "metadata": {},
   "outputs": [
    {
     "data": {
      "text/html": [
       "<div>\n",
       "<style scoped>\n",
       "    .dataframe tbody tr th:only-of-type {\n",
       "        vertical-align: middle;\n",
       "    }\n",
       "\n",
       "    .dataframe tbody tr th {\n",
       "        vertical-align: top;\n",
       "    }\n",
       "\n",
       "    .dataframe thead th {\n",
       "        text-align: right;\n",
       "    }\n",
       "</style>\n",
       "<table border=\"1\" class=\"dataframe\">\n",
       "  <thead>\n",
       "    <tr style=\"text-align: right;\">\n",
       "      <th></th>\n",
       "      <th>requirements</th>\n",
       "      <th>related_employees</th>\n",
       "      <th>weight</th>\n",
       "      <th>final_weight</th>\n",
       "    </tr>\n",
       "  </thead>\n",
       "  <tbody>\n",
       "    <tr>\n",
       "      <th>0</th>\n",
       "      <td>Design company</td>\n",
       "      <td>Designer</td>\n",
       "      <td>5</td>\n",
       "      <td>3000000</td>\n",
       "    </tr>\n",
       "    <tr>\n",
       "      <th>1</th>\n",
       "      <td>Schools</td>\n",
       "      <td>30% of All</td>\n",
       "      <td>10</td>\n",
       "      <td>9450000</td>\n",
       "    </tr>\n",
       "    <tr>\n",
       "      <th>2</th>\n",
       "      <td>Successful tech startup</td>\n",
       "      <td>Frontend Developers/Backend Developers</td>\n",
       "      <td>5</td>\n",
       "      <td>2625000</td>\n",
       "    </tr>\n",
       "    <tr>\n",
       "      <th>3</th>\n",
       "      <td>Starbucks</td>\n",
       "      <td>Executives</td>\n",
       "      <td>4</td>\n",
       "      <td>2400000</td>\n",
       "    </tr>\n",
       "    <tr>\n",
       "      <th>4</th>\n",
       "      <td>Airport</td>\n",
       "      <td>Account Managers</td>\n",
       "      <td>8</td>\n",
       "      <td>4000000</td>\n",
       "    </tr>\n",
       "    <tr>\n",
       "      <th>5</th>\n",
       "      <td>Party</td>\n",
       "      <td>All</td>\n",
       "      <td>2</td>\n",
       "      <td>6300000</td>\n",
       "    </tr>\n",
       "    <tr>\n",
       "      <th>6</th>\n",
       "      <td>Vegan restaurant</td>\n",
       "      <td>CEO</td>\n",
       "      <td>4</td>\n",
       "      <td>320000</td>\n",
       "    </tr>\n",
       "    <tr>\n",
       "      <th>7</th>\n",
       "      <td>Basketball stadium</td>\n",
       "      <td>Maintenance</td>\n",
       "      <td>4</td>\n",
       "      <td>80000</td>\n",
       "    </tr>\n",
       "    <tr>\n",
       "      <th>8</th>\n",
       "      <td>Dog hairdresser</td>\n",
       "      <td>All</td>\n",
       "      <td>1</td>\n",
       "      <td>3150000</td>\n",
       "    </tr>\n",
       "  </tbody>\n",
       "</table>\n",
       "</div>"
      ],
      "text/plain": [
       "              requirements                       related_employees  weight  \\\n",
       "0           Design company                                Designer       5   \n",
       "1                  Schools                              30% of All      10   \n",
       "2  Successful tech startup  Frontend Developers/Backend Developers       5   \n",
       "3                Starbucks                              Executives       4   \n",
       "4                  Airport                        Account Managers       8   \n",
       "5                    Party                                     All       2   \n",
       "6         Vegan restaurant                                     CEO       4   \n",
       "7       Basketball stadium                             Maintenance       4   \n",
       "8          Dog hairdresser                                     All       1   \n",
       "\n",
       "   final_weight  \n",
       "0       3000000  \n",
       "1       9450000  \n",
       "2       2625000  \n",
       "3       2400000  \n",
       "4       4000000  \n",
       "5       6300000  \n",
       "6        320000  \n",
       "7         80000  \n",
       "8       3150000  "
      ]
     },
     "execution_count": 324,
     "metadata": {},
     "output_type": "execute_result"
    }
   ],
   "source": [
    "df3"
   ]
  },
  {
   "cell_type": "code",
   "execution_count": null,
   "id": "58a78fb5",
   "metadata": {},
   "outputs": [],
   "source": [
    "\"\"\"\n",
    "CHANGE WEIGHTTTTTTTTTTTTTTTTTTTTTTTTTTTTTTTSSSSSSSSSSSSSSSSSSSSSSSSSSSSSSSSSSSSSSSSS\n",
    "\"\"\""
   ]
  },
  {
   "cell_type": "code",
   "execution_count": null,
   "id": "cbf272a3",
   "metadata": {},
   "outputs": [],
   "source": [
    "!git add my"
   ]
  }
 ],
 "metadata": {
  "kernelspec": {
   "display_name": "Python 3 (ipykernel)",
   "language": "python",
   "name": "python3"
  },
  "language_info": {
   "codemirror_mode": {
    "name": "ipython",
    "version": 3
   },
   "file_extension": ".py",
   "mimetype": "text/x-python",
   "name": "python",
   "nbconvert_exporter": "python",
   "pygments_lexer": "ipython3",
   "version": "3.9.12"
  }
 },
 "nbformat": 4,
 "nbformat_minor": 5
}
