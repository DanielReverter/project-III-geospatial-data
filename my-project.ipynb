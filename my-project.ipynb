{
 "cells": [
  {
   "cell_type": "code",
   "execution_count": 77,
   "id": "0c7762bf",
   "metadata": {},
   "outputs": [],
   "source": [
    "import os\n",
    "import requests\n",
    "import json\n",
    "from dotenv import load_dotenv\n",
    "import pandas as pd\n",
    "import geopandas as gpd\n",
    "from cartoframes.viz import Map, Layer, popup_element\n",
    "from pymongo import MongoClient\n",
    "from pymongo import GEOSPHERE\n",
    "import math\n",
    "import numpy as np"
   ]
  },
  {
   "cell_type": "code",
   "execution_count": 78,
   "id": "e1a0b623",
   "metadata": {},
   "outputs": [
    {
     "data": {
      "text/plain": [
       "True"
      ]
     },
     "execution_count": 78,
     "metadata": {},
     "output_type": "execute_result"
    }
   ],
   "source": [
    "load_dotenv()"
   ]
  },
  {
   "cell_type": "code",
   "execution_count": 79,
   "id": "110d3b70",
   "metadata": {},
   "outputs": [],
   "source": [
    "key = os.getenv(\"KEY\")"
   ]
  },
  {
   "cell_type": "code",
   "execution_count": 80,
   "id": "7f0d5451",
   "metadata": {},
   "outputs": [],
   "source": [
    "client = MongoClient(\"localhost:27017\")\n",
    "db = client.get_database(\"Ironhack\")"
   ]
  },
  {
   "cell_type": "code",
   "execution_count": 81,
   "id": "a3744106",
   "metadata": {},
   "outputs": [],
   "source": [
    "companies = db.get_collection(\"companies\")"
   ]
  },
  {
   "cell_type": "code",
   "execution_count": 7,
   "id": "b058a64a",
   "metadata": {},
   "outputs": [],
   "source": [
    "valencia_companies = list(companies.find({\"offices.city\":\"Valencia\"}))\n",
    "barcelona_companies = list(companies.find({\"offices.city\":\"Barcelona\"}))\n",
    "madrid_companies = list(companies.find({\"offices.city\":\"Madrid\"}))\n",
    "spain_companies = [valencia_companies, barcelona_companies, madrid_companies]"
   ]
  },
  {
   "cell_type": "code",
   "execution_count": 8,
   "id": "bcd523ac",
   "metadata": {},
   "outputs": [],
   "source": [
    "name = []\n",
    "city = []\n",
    "office_number = []\n",
    "address = []\n",
    "latitude = []\n",
    "longitude = []\n",
    "for each_city in spain_companies:\n",
    "    for company in each_city:\n",
    "        try:\n",
    "            for i in range(len(company[\"offices\"])):\n",
    "                n = 0\n",
    "                if company[\"offices\"][i][\"city\"] in [\"Valencia\", \"Barcelona\", \"Madrid\"]:\n",
    "                    n += 1\n",
    "                    name.append(company[\"name\"])\n",
    "                    city.append(company[\"offices\"][i][\"city\"])\n",
    "                    office_number.append(n)\n",
    "                    address.append(company[\"offices\"][i][\"address1\"])\n",
    "                    latitude.append(company[\"offices\"][i][\"latitude\"])\n",
    "                    longitude.append(company[\"offices\"][i][\"longitude\"])\n",
    "        except:\n",
    "            pass"
   ]
  },
  {
   "cell_type": "code",
   "execution_count": 9,
   "id": "564e1c6d",
   "metadata": {},
   "outputs": [],
   "source": [
    "spain_dict = {\"name\":name, \"city\":city, \"office_number\":office_number, \"address\":address, \"latitude\":latitude, \"longitude\":longitude}"
   ]
  },
  {
   "cell_type": "code",
   "execution_count": 10,
   "id": "8fa65ac7",
   "metadata": {},
   "outputs": [],
   "source": [
    "df = pd.DataFrame.from_dict(spain_dict)"
   ]
  },
  {
   "cell_type": "code",
   "execution_count": 148,
   "id": "4ed73f1c",
   "metadata": {},
   "outputs": [],
   "source": [
    "df['address'].replace('', np.nan, inplace=True)"
   ]
  },
  {
   "cell_type": "code",
   "execution_count": 152,
   "id": "07169c7b",
   "metadata": {},
   "outputs": [],
   "source": [
    "df = df.dropna(subset=[\"address\", \"latitude\", \"longitude\"], how='all')"
   ]
  },
  {
   "cell_type": "code",
   "execution_count": 161,
   "id": "03d0dc2b",
   "metadata": {},
   "outputs": [],
   "source": [
    "def get_coordinates (place):\n",
    "    try:\n",
    "        res = requests.get(f\"https://geocode.xyz/{place}?json=1\").json()\n",
    "        return [res[\"longt\"],res[\"latt\"]]\n",
    "    except:\n",
    "        return [np.nan, np.nan]"
   ]
  },
  {
   "cell_type": "code",
   "execution_count": null,
   "id": "9c8a5d33",
   "metadata": {},
   "outputs": [],
   "source": [
    "for i in df.index.values.tolist():\n",
    "    if math.isnan(df.at[i, \"latitude\"]) or df.at[i, \"latitude\"]==0:\n",
    "        address_complete = df.at[i, \"address\"] + \", \" + df.at[i, \"city\"] + \", Spain\"\n",
    "        coordinates = get_coordinates(address_complete)\n",
    "        df.at[i, \"latitude\"]= float(coordinates[1])\n",
    "        df.at[i, \"longitude\"]= float(coordinates[0])"
   ]
  },
  {
   "cell_type": "code",
   "execution_count": 196,
   "id": "0ed13ed5",
   "metadata": {},
   "outputs": [],
   "source": [
    "for i in df.index.values.tolist():\n",
    "    if df.at[i, \"latitude\"] < 20:\n",
    "        latitude = df.at[i, \"latitude\"]\n",
    "        longitude = df.at[i, \"longitude\"]\n",
    "        df.at[i, \"latitude\"] = longitude\n",
    "        df.at[i, \"longitude\"] = latitude"
   ]
  },
  {
   "cell_type": "code",
   "execution_count": 198,
   "id": "bcf50b68",
   "metadata": {},
   "outputs": [
    {
     "name": "stderr",
     "output_type": "stream",
     "text": [
      "C:\\Users\\Daniel\\AppData\\Local\\Temp\\ipykernel_8060\\3028638243.py:1: SettingWithCopyWarning: \n",
      "A value is trying to be set on a copy of a slice from a DataFrame.\n",
      "Try using .loc[row_indexer,col_indexer] = value instead\n",
      "\n",
      "See the caveats in the documentation: https://pandas.pydata.org/pandas-docs/stable/user_guide/indexing.html#returning-a-view-versus-a-copy\n",
      "  df['latitude'] = df['latitude'].fillna(0)\n"
     ]
    }
   ],
   "source": [
    "df['latitude'] = df['latitude'].fillna(0)"
   ]
  },
  {
   "cell_type": "code",
   "execution_count": 200,
   "id": "b52de8e8",
   "metadata": {},
   "outputs": [
    {
     "name": "stderr",
     "output_type": "stream",
     "text": [
      "C:\\Users\\Daniel\\AppData\\Local\\Temp\\ipykernel_8060\\1358260333.py:1: SettingWithCopyWarning: \n",
      "A value is trying to be set on a copy of a slice from a DataFrame\n",
      "\n",
      "See the caveats in the documentation: https://pandas.pydata.org/pandas-docs/stable/user_guide/indexing.html#returning-a-view-versus-a-copy\n",
      "  df.drop(df[df.latitude < 30].index, inplace=True)\n"
     ]
    }
   ],
   "source": [
    "df.drop(df[df.latitude < 30].index, inplace=True)"
   ]
  },
  {
   "cell_type": "code",
   "execution_count": 209,
   "id": "80e5b7a8",
   "metadata": {},
   "outputs": [],
   "source": [
    "df.drop(df[df.longitude < -10].index, inplace=True)"
   ]
  },
  {
   "cell_type": "code",
   "execution_count": 210,
   "id": "866afba1",
   "metadata": {},
   "outputs": [],
   "source": [
    "df.to_csv(\"Output/spanish_companies.csv\")"
   ]
  },
  {
   "cell_type": "code",
   "execution_count": 6,
   "id": "1ce2fb05",
   "metadata": {},
   "outputs": [],
   "source": [
    "df = pd.read_csv('Output/spanish_companies.csv')"
   ]
  },
  {
   "cell_type": "code",
   "execution_count": 7,
   "id": "482f6657",
   "metadata": {},
   "outputs": [],
   "source": [
    "df = df.set_index('Unnamed: 0')\n",
    "df.index.name = None"
   ]
  },
  {
   "cell_type": "code",
   "execution_count": 8,
   "id": "f3daf0ea",
   "metadata": {},
   "outputs": [],
   "source": [
    "position = [\"Designers\", \"UI/UX Engineers\", \"Frontend Developers\", \"Data Engineers\", \n",
    "             \"Backend Developers\", \"Account Managers\", \"Maintenance\", \"Executives\", \"CEO\"]\n",
    "number_of_employees = [20, 5, 10, 15, 5, 20, 1, 10, 1]\n",
    "salary = [30000, 33000, 33000, 44000, 39000, 25000, 20000, 60000, 80000]"
   ]
  },
  {
   "cell_type": "code",
   "execution_count": 9,
   "id": "0a6e360c",
   "metadata": {},
   "outputs": [],
   "source": [
    "employees_dict = {\"position\":position, \"number_of_employees\":number_of_employees, \"salary\":salary}"
   ]
  },
  {
   "cell_type": "code",
   "execution_count": 10,
   "id": "d23dc30d",
   "metadata": {},
   "outputs": [],
   "source": [
    "df2 = pd.DataFrame.from_dict(employees_dict)"
   ]
  },
  {
   "cell_type": "code",
   "execution_count": 11,
   "id": "8b2be553",
   "metadata": {},
   "outputs": [
    {
     "data": {
      "text/html": [
       "<div>\n",
       "<style scoped>\n",
       "    .dataframe tbody tr th:only-of-type {\n",
       "        vertical-align: middle;\n",
       "    }\n",
       "\n",
       "    .dataframe tbody tr th {\n",
       "        vertical-align: top;\n",
       "    }\n",
       "\n",
       "    .dataframe thead th {\n",
       "        text-align: right;\n",
       "    }\n",
       "</style>\n",
       "<table border=\"1\" class=\"dataframe\">\n",
       "  <thead>\n",
       "    <tr style=\"text-align: right;\">\n",
       "      <th></th>\n",
       "      <th>position</th>\n",
       "      <th>number_of_employees</th>\n",
       "      <th>salary</th>\n",
       "    </tr>\n",
       "  </thead>\n",
       "  <tbody>\n",
       "    <tr>\n",
       "      <th>0</th>\n",
       "      <td>Designers</td>\n",
       "      <td>20</td>\n",
       "      <td>30000</td>\n",
       "    </tr>\n",
       "    <tr>\n",
       "      <th>1</th>\n",
       "      <td>UI/UX Engineers</td>\n",
       "      <td>5</td>\n",
       "      <td>33000</td>\n",
       "    </tr>\n",
       "    <tr>\n",
       "      <th>2</th>\n",
       "      <td>Frontend Developers</td>\n",
       "      <td>10</td>\n",
       "      <td>33000</td>\n",
       "    </tr>\n",
       "    <tr>\n",
       "      <th>3</th>\n",
       "      <td>Data Engineers</td>\n",
       "      <td>15</td>\n",
       "      <td>44000</td>\n",
       "    </tr>\n",
       "    <tr>\n",
       "      <th>4</th>\n",
       "      <td>Backend Developers</td>\n",
       "      <td>5</td>\n",
       "      <td>39000</td>\n",
       "    </tr>\n",
       "    <tr>\n",
       "      <th>5</th>\n",
       "      <td>Account Managers</td>\n",
       "      <td>20</td>\n",
       "      <td>25000</td>\n",
       "    </tr>\n",
       "    <tr>\n",
       "      <th>6</th>\n",
       "      <td>Maintenance</td>\n",
       "      <td>1</td>\n",
       "      <td>20000</td>\n",
       "    </tr>\n",
       "    <tr>\n",
       "      <th>7</th>\n",
       "      <td>Executives</td>\n",
       "      <td>10</td>\n",
       "      <td>60000</td>\n",
       "    </tr>\n",
       "    <tr>\n",
       "      <th>8</th>\n",
       "      <td>CEO</td>\n",
       "      <td>1</td>\n",
       "      <td>80000</td>\n",
       "    </tr>\n",
       "  </tbody>\n",
       "</table>\n",
       "</div>"
      ],
      "text/plain": [
       "              position  number_of_employees  salary\n",
       "0            Designers                   20   30000\n",
       "1      UI/UX Engineers                    5   33000\n",
       "2  Frontend Developers                   10   33000\n",
       "3       Data Engineers                   15   44000\n",
       "4   Backend Developers                    5   39000\n",
       "5     Account Managers                   20   25000\n",
       "6          Maintenance                    1   20000\n",
       "7           Executives                   10   60000\n",
       "8                  CEO                    1   80000"
      ]
     },
     "execution_count": 11,
     "metadata": {},
     "output_type": "execute_result"
    }
   ],
   "source": [
    "df2"
   ]
  },
  {
   "cell_type": "code",
   "execution_count": 12,
   "id": "18ab6f48",
   "metadata": {},
   "outputs": [],
   "source": [
    "requirements = [\"Design company\", \"Schools\", \"Successful tech startup\", \"Starbucks\", \"Airport\", \"Party\", \n",
    "                \"Vegan restaurant\", \"Basketball stadium\", \"Dog hairdresser\"]\n",
    "related_employees = [\"Designers\", \"30% of All\", \"Frontend Developers/Backend Developers\", \"Executives\", \"Account Managers\", \"All\", \n",
    "                     \"CEO\", \"Maintenance\", \"All\"]\n",
    "weight = [80, 100, 80, 40, 100, 10, 300, 500, 1]"
   ]
  },
  {
   "cell_type": "code",
   "execution_count": 13,
   "id": "fc575350",
   "metadata": {},
   "outputs": [],
   "source": [
    "requirements_dict = {\"requirements\":requirements, \"related_employees\":related_employees, \"weight\":weight}"
   ]
  },
  {
   "cell_type": "code",
   "execution_count": 14,
   "id": "b1f5f78f",
   "metadata": {},
   "outputs": [],
   "source": [
    "df3 = pd.DataFrame.from_dict(requirements_dict)"
   ]
  },
  {
   "cell_type": "code",
   "execution_count": 15,
   "id": "69a89fdc",
   "metadata": {},
   "outputs": [
    {
     "data": {
      "text/html": [
       "<div>\n",
       "<style scoped>\n",
       "    .dataframe tbody tr th:only-of-type {\n",
       "        vertical-align: middle;\n",
       "    }\n",
       "\n",
       "    .dataframe tbody tr th {\n",
       "        vertical-align: top;\n",
       "    }\n",
       "\n",
       "    .dataframe thead th {\n",
       "        text-align: right;\n",
       "    }\n",
       "</style>\n",
       "<table border=\"1\" class=\"dataframe\">\n",
       "  <thead>\n",
       "    <tr style=\"text-align: right;\">\n",
       "      <th></th>\n",
       "      <th>requirements</th>\n",
       "      <th>related_employees</th>\n",
       "      <th>weight</th>\n",
       "    </tr>\n",
       "  </thead>\n",
       "  <tbody>\n",
       "    <tr>\n",
       "      <th>0</th>\n",
       "      <td>Design company</td>\n",
       "      <td>Designers</td>\n",
       "      <td>80</td>\n",
       "    </tr>\n",
       "    <tr>\n",
       "      <th>1</th>\n",
       "      <td>Schools</td>\n",
       "      <td>30% of All</td>\n",
       "      <td>100</td>\n",
       "    </tr>\n",
       "    <tr>\n",
       "      <th>2</th>\n",
       "      <td>Successful tech startup</td>\n",
       "      <td>Frontend Developers/Backend Developers</td>\n",
       "      <td>80</td>\n",
       "    </tr>\n",
       "    <tr>\n",
       "      <th>3</th>\n",
       "      <td>Starbucks</td>\n",
       "      <td>Executives</td>\n",
       "      <td>40</td>\n",
       "    </tr>\n",
       "    <tr>\n",
       "      <th>4</th>\n",
       "      <td>Airport</td>\n",
       "      <td>Account Managers</td>\n",
       "      <td>100</td>\n",
       "    </tr>\n",
       "    <tr>\n",
       "      <th>5</th>\n",
       "      <td>Party</td>\n",
       "      <td>All</td>\n",
       "      <td>10</td>\n",
       "    </tr>\n",
       "    <tr>\n",
       "      <th>6</th>\n",
       "      <td>Vegan restaurant</td>\n",
       "      <td>CEO</td>\n",
       "      <td>300</td>\n",
       "    </tr>\n",
       "    <tr>\n",
       "      <th>7</th>\n",
       "      <td>Basketball stadium</td>\n",
       "      <td>Maintenance</td>\n",
       "      <td>500</td>\n",
       "    </tr>\n",
       "    <tr>\n",
       "      <th>8</th>\n",
       "      <td>Dog hairdresser</td>\n",
       "      <td>All</td>\n",
       "      <td>1</td>\n",
       "    </tr>\n",
       "  </tbody>\n",
       "</table>\n",
       "</div>"
      ],
      "text/plain": [
       "              requirements                       related_employees  weight\n",
       "0           Design company                               Designers      80\n",
       "1                  Schools                              30% of All     100\n",
       "2  Successful tech startup  Frontend Developers/Backend Developers      80\n",
       "3                Starbucks                              Executives      40\n",
       "4                  Airport                        Account Managers     100\n",
       "5                    Party                                     All      10\n",
       "6         Vegan restaurant                                     CEO     300\n",
       "7       Basketball stadium                             Maintenance     500\n",
       "8          Dog hairdresser                                     All       1"
      ]
     },
     "execution_count": 15,
     "metadata": {},
     "output_type": "execute_result"
    }
   ],
   "source": [
    "df3"
   ]
  },
  {
   "cell_type": "code",
   "execution_count": 16,
   "id": "75b2db43",
   "metadata": {},
   "outputs": [],
   "source": [
    "final_weight = []\n",
    "everyone = list(df2[\"position\"].values)\n",
    "related_employees = [[\"Designers\"], everyone, ['Frontend Developers', 'Backend Developers'], ['Executives'], ['Account Managers'], everyone, ['CEO'], ['Maintenance'], everyone] \n",
    "for i, employee_types in enumerate(related_employees):\n",
    "    weight = df3.at[i, \"weight\"]\n",
    "    final = 0\n",
    "    for employee_type in employee_types:\n",
    "        number_of_employees = list(df2.loc[df2['position'] == employee_type][\"number_of_employees\"].values)[0]\n",
    "        salary = list(df2.loc[df2['position'] == employee_type][\"salary\"].values)[0]\n",
    "        final += weight*number_of_employees*salary\n",
    "    if i == 1: \n",
    "        final *= 0.3\n",
    "    final_weight.append(int(final))"
   ]
  },
  {
   "cell_type": "code",
   "execution_count": 18,
   "id": "547b1f7d",
   "metadata": {},
   "outputs": [],
   "source": [
    "df3['final_weight'] = final_weight"
   ]
  },
  {
   "cell_type": "code",
   "execution_count": 19,
   "id": "ee3b5078",
   "metadata": {},
   "outputs": [
    {
     "data": {
      "text/html": [
       "<div>\n",
       "<style scoped>\n",
       "    .dataframe tbody tr th:only-of-type {\n",
       "        vertical-align: middle;\n",
       "    }\n",
       "\n",
       "    .dataframe tbody tr th {\n",
       "        vertical-align: top;\n",
       "    }\n",
       "\n",
       "    .dataframe thead th {\n",
       "        text-align: right;\n",
       "    }\n",
       "</style>\n",
       "<table border=\"1\" class=\"dataframe\">\n",
       "  <thead>\n",
       "    <tr style=\"text-align: right;\">\n",
       "      <th></th>\n",
       "      <th>requirements</th>\n",
       "      <th>related_employees</th>\n",
       "      <th>weight</th>\n",
       "      <th>final_weight</th>\n",
       "    </tr>\n",
       "  </thead>\n",
       "  <tbody>\n",
       "    <tr>\n",
       "      <th>0</th>\n",
       "      <td>Design company</td>\n",
       "      <td>Designers</td>\n",
       "      <td>80</td>\n",
       "      <td>48000000</td>\n",
       "    </tr>\n",
       "    <tr>\n",
       "      <th>1</th>\n",
       "      <td>Schools</td>\n",
       "      <td>30% of All</td>\n",
       "      <td>100</td>\n",
       "      <td>94500000</td>\n",
       "    </tr>\n",
       "    <tr>\n",
       "      <th>2</th>\n",
       "      <td>Successful tech startup</td>\n",
       "      <td>Frontend Developers/Backend Developers</td>\n",
       "      <td>80</td>\n",
       "      <td>42000000</td>\n",
       "    </tr>\n",
       "    <tr>\n",
       "      <th>3</th>\n",
       "      <td>Starbucks</td>\n",
       "      <td>Executives</td>\n",
       "      <td>40</td>\n",
       "      <td>24000000</td>\n",
       "    </tr>\n",
       "    <tr>\n",
       "      <th>4</th>\n",
       "      <td>Airport</td>\n",
       "      <td>Account Managers</td>\n",
       "      <td>100</td>\n",
       "      <td>50000000</td>\n",
       "    </tr>\n",
       "    <tr>\n",
       "      <th>5</th>\n",
       "      <td>Party</td>\n",
       "      <td>All</td>\n",
       "      <td>10</td>\n",
       "      <td>31500000</td>\n",
       "    </tr>\n",
       "    <tr>\n",
       "      <th>6</th>\n",
       "      <td>Vegan restaurant</td>\n",
       "      <td>CEO</td>\n",
       "      <td>300</td>\n",
       "      <td>24000000</td>\n",
       "    </tr>\n",
       "    <tr>\n",
       "      <th>7</th>\n",
       "      <td>Basketball stadium</td>\n",
       "      <td>Maintenance</td>\n",
       "      <td>500</td>\n",
       "      <td>10000000</td>\n",
       "    </tr>\n",
       "    <tr>\n",
       "      <th>8</th>\n",
       "      <td>Dog hairdresser</td>\n",
       "      <td>All</td>\n",
       "      <td>1</td>\n",
       "      <td>3150000</td>\n",
       "    </tr>\n",
       "  </tbody>\n",
       "</table>\n",
       "</div>"
      ],
      "text/plain": [
       "              requirements                       related_employees  weight  \\\n",
       "0           Design company                               Designers      80   \n",
       "1                  Schools                              30% of All     100   \n",
       "2  Successful tech startup  Frontend Developers/Backend Developers      80   \n",
       "3                Starbucks                              Executives      40   \n",
       "4                  Airport                        Account Managers     100   \n",
       "5                    Party                                     All      10   \n",
       "6         Vegan restaurant                                     CEO     300   \n",
       "7       Basketball stadium                             Maintenance     500   \n",
       "8          Dog hairdresser                                     All       1   \n",
       "\n",
       "   final_weight  \n",
       "0      48000000  \n",
       "1      94500000  \n",
       "2      42000000  \n",
       "3      24000000  \n",
       "4      50000000  \n",
       "5      31500000  \n",
       "6      24000000  \n",
       "7      10000000  \n",
       "8       3150000  "
      ]
     },
     "execution_count": 19,
     "metadata": {},
     "output_type": "execute_result"
    }
   ],
   "source": [
    "df3"
   ]
  },
  {
   "cell_type": "code",
   "execution_count": 20,
   "id": "9c05ca63",
   "metadata": {},
   "outputs": [
    {
     "data": {
      "text/html": [
       "<div>\n",
       "<style scoped>\n",
       "    .dataframe tbody tr th:only-of-type {\n",
       "        vertical-align: middle;\n",
       "    }\n",
       "\n",
       "    .dataframe tbody tr th {\n",
       "        vertical-align: top;\n",
       "    }\n",
       "\n",
       "    .dataframe thead th {\n",
       "        text-align: right;\n",
       "    }\n",
       "</style>\n",
       "<table border=\"1\" class=\"dataframe\">\n",
       "  <thead>\n",
       "    <tr style=\"text-align: right;\">\n",
       "      <th></th>\n",
       "      <th>name</th>\n",
       "      <th>city</th>\n",
       "      <th>office_number</th>\n",
       "      <th>address</th>\n",
       "      <th>latitude</th>\n",
       "      <th>longitude</th>\n",
       "    </tr>\n",
       "  </thead>\n",
       "  <tbody>\n",
       "    <tr>\n",
       "      <th>0</th>\n",
       "      <td>e-contratos</td>\n",
       "      <td>Valencia</td>\n",
       "      <td>1</td>\n",
       "      <td>Periodista Azzati, 5. 3, 6B</td>\n",
       "      <td>39.469301</td>\n",
       "      <td>-0.377068</td>\n",
       "    </tr>\n",
       "    <tr>\n",
       "      <th>1</th>\n",
       "      <td>Modo Marketing</td>\n",
       "      <td>Valencia</td>\n",
       "      <td>1</td>\n",
       "      <td>NaN</td>\n",
       "      <td>39.640730</td>\n",
       "      <td>-0.421944</td>\n",
       "    </tr>\n",
       "    <tr>\n",
       "      <th>2</th>\n",
       "      <td>Efebege</td>\n",
       "      <td>Valencia</td>\n",
       "      <td>1</td>\n",
       "      <td>General Barroso, 66</td>\n",
       "      <td>39.450211</td>\n",
       "      <td>-0.392465</td>\n",
       "    </tr>\n",
       "    <tr>\n",
       "      <th>3</th>\n",
       "      <td>Feasa Valencia</td>\n",
       "      <td>Valencia</td>\n",
       "      <td>1</td>\n",
       "      <td>Cami Vera SN</td>\n",
       "      <td>37.210300</td>\n",
       "      <td>-1.857610</td>\n",
       "    </tr>\n",
       "    <tr>\n",
       "      <th>4</th>\n",
       "      <td>DOMODESK</td>\n",
       "      <td>Valencia</td>\n",
       "      <td>1</td>\n",
       "      <td>C/Alqueria de Benlloch 24</td>\n",
       "      <td>39.461268</td>\n",
       "      <td>-0.398346</td>\n",
       "    </tr>\n",
       "    <tr>\n",
       "      <th>...</th>\n",
       "      <td>...</td>\n",
       "      <td>...</td>\n",
       "      <td>...</td>\n",
       "      <td>...</td>\n",
       "      <td>...</td>\n",
       "      <td>...</td>\n",
       "    </tr>\n",
       "    <tr>\n",
       "      <th>159</th>\n",
       "      <td>cost4travel</td>\n",
       "      <td>Madrid</td>\n",
       "      <td>1</td>\n",
       "      <td>Calle Francisco Jose Arroyo, 6</td>\n",
       "      <td>40.452871</td>\n",
       "      <td>-3.614939</td>\n",
       "    </tr>\n",
       "    <tr>\n",
       "      <th>160</th>\n",
       "      <td>Genasys</td>\n",
       "      <td>Madrid</td>\n",
       "      <td>1</td>\n",
       "      <td>C/ Ventura de la Vega 5</td>\n",
       "      <td>40.416184</td>\n",
       "      <td>-3.698873</td>\n",
       "    </tr>\n",
       "    <tr>\n",
       "      <th>162</th>\n",
       "      <td>FRV</td>\n",
       "      <td>Madrid</td>\n",
       "      <td>1</td>\n",
       "      <td>Rafael Calvo 42</td>\n",
       "      <td>40.433930</td>\n",
       "      <td>-3.690270</td>\n",
       "    </tr>\n",
       "    <tr>\n",
       "      <th>164</th>\n",
       "      <td>AdLINK Group</td>\n",
       "      <td>Madrid</td>\n",
       "      <td>1</td>\n",
       "      <td>affilinet Espana SLU</td>\n",
       "      <td>40.423070</td>\n",
       "      <td>-3.711930</td>\n",
       "    </tr>\n",
       "    <tr>\n",
       "      <th>165</th>\n",
       "      <td>BuyVIP</td>\n",
       "      <td>Madrid</td>\n",
       "      <td>1</td>\n",
       "      <td>33. Edificio Atica 4 planta 2</td>\n",
       "      <td>40.416741</td>\n",
       "      <td>-3.703250</td>\n",
       "    </tr>\n",
       "  </tbody>\n",
       "</table>\n",
       "<p>153 rows × 6 columns</p>\n",
       "</div>"
      ],
      "text/plain": [
       "               name      city  office_number                         address  \\\n",
       "0       e-contratos  Valencia              1     Periodista Azzati, 5. 3, 6B   \n",
       "1    Modo Marketing  Valencia              1                             NaN   \n",
       "2           Efebege  Valencia              1             General Barroso, 66   \n",
       "3    Feasa Valencia  Valencia              1                    Cami Vera SN   \n",
       "4          DOMODESK  Valencia              1       C/Alqueria de Benlloch 24   \n",
       "..              ...       ...            ...                             ...   \n",
       "159     cost4travel    Madrid              1  Calle Francisco Jose Arroyo, 6   \n",
       "160         Genasys    Madrid              1         C/ Ventura de la Vega 5   \n",
       "162             FRV    Madrid              1                 Rafael Calvo 42   \n",
       "164    AdLINK Group    Madrid              1            affilinet Espana SLU   \n",
       "165          BuyVIP    Madrid              1   33. Edificio Atica 4 planta 2   \n",
       "\n",
       "      latitude  longitude  \n",
       "0    39.469301  -0.377068  \n",
       "1    39.640730  -0.421944  \n",
       "2    39.450211  -0.392465  \n",
       "3    37.210300  -1.857610  \n",
       "4    39.461268  -0.398346  \n",
       "..         ...        ...  \n",
       "159  40.452871  -3.614939  \n",
       "160  40.416184  -3.698873  \n",
       "162  40.433930  -3.690270  \n",
       "164  40.423070  -3.711930  \n",
       "165  40.416741  -3.703250  \n",
       "\n",
       "[153 rows x 6 columns]"
      ]
     },
     "execution_count": 20,
     "metadata": {},
     "output_type": "execute_result"
    }
   ],
   "source": [
    "df"
   ]
  },
  {
   "cell_type": "code",
   "execution_count": 37,
   "id": "f02b7465",
   "metadata": {},
   "outputs": [],
   "source": [
    "def get_results_from_foursquare (query, location, limit):\n",
    "    url = f\"https://api.foursquare.com/v3/places/search?query={query}&ll={location[0]}%2C{location[1]}&radius=100000&sort=RELEVANCE&limit={limit}\"\n",
    "    headers = {\n",
    "        \"Accept\": \"application/json\",\n",
    "        \"Authorization\": key\n",
    "    }\n",
    "    response = requests.get(url, headers=headers)\n",
    "    return response.json()[\"results\"]"
   ]
  },
  {
   "cell_type": "code",
   "execution_count": 22,
   "id": "ecc040ce",
   "metadata": {},
   "outputs": [],
   "source": [
    "query = \"school\"\n",
    "limit = 10\n",
    "school_distance = []\n",
    "for index in df.index.values.tolist():\n",
    "    location = [df.at[index, \"latitude\"], df.at[index, \"longitude\"]]\n",
    "    results = get_results_from_foursquare (query, location, limit)\n",
    "    distances = []\n",
    "    for result in results:\n",
    "        distances.append(result[\"distance\"])\n",
    "    if len(distances)>0:\n",
    "        starbucks_distance.append(min(distances))\n",
    "    else:\n",
    "        starbucks_distance.append(100000)\n",
    "df['school_distance'] = school_distance"
   ]
  },
  {
   "cell_type": "code",
   "execution_count": 24,
   "id": "da159390",
   "metadata": {},
   "outputs": [],
   "source": [
    "df.to_csv(\"Output/spanish_companies_school.csv\")"
   ]
  },
  {
   "cell_type": "code",
   "execution_count": 33,
   "id": "3ccac5fb",
   "metadata": {},
   "outputs": [],
   "source": [
    "query = \"starbucks\"\n",
    "limit = 10\n",
    "starbucks_distance = []\n",
    "for index in df.index.values.tolist():\n",
    "    location = [df.at[index, \"latitude\"], df.at[index, \"longitude\"]]\n",
    "    results = get_results_from_foursquare (query, location, limit)\n",
    "    distances = []\n",
    "    for result in results:\n",
    "        distances.append(result[\"distance\"])\n",
    "    if len(distances)>0:\n",
    "        starbucks_distance.append(min(distances))\n",
    "    else:\n",
    "        starbucks_distance.append(100000)\n",
    "df['starbucks_distance'] = starbucks_distance"
   ]
  },
  {
   "cell_type": "code",
   "execution_count": 35,
   "id": "834ad5ae",
   "metadata": {},
   "outputs": [],
   "source": [
    "df.to_csv(\"Output/spanish_companies_school_starbucks.csv\")"
   ]
  },
  {
   "cell_type": "code",
   "execution_count": 39,
   "id": "aad8a770",
   "metadata": {},
   "outputs": [],
   "source": [
    "query = \"airport\"\n",
    "limit = 10\n",
    "airport_distance = []\n",
    "for index in df.index.values.tolist():\n",
    "    location = [df.at[index, \"latitude\"], df.at[index, \"longitude\"]]\n",
    "    results = get_results_from_foursquare (query, location, limit)\n",
    "    distances = []\n",
    "    for result in results:\n",
    "        distances.append(result[\"distance\"])\n",
    "    if len(distances)>0:\n",
    "        airport_distance.append(min(distances))\n",
    "    else:\n",
    "        airport_distance.append(100000)\n",
    "df['airport_distance'] = airport_distance"
   ]
  },
  {
   "cell_type": "code",
   "execution_count": 41,
   "id": "364780cd",
   "metadata": {},
   "outputs": [],
   "source": [
    "df.to_csv(\"Output/spanish_companies_school_starbucks_airport.csv\")"
   ]
  },
  {
   "cell_type": "code",
   "execution_count": 42,
   "id": "f3d38f00",
   "metadata": {},
   "outputs": [],
   "source": [
    "query = \"vegan\"\n",
    "limit = 10\n",
    "vegan_distance = []\n",
    "for index in df.index.values.tolist():\n",
    "    location = [df.at[index, \"latitude\"], df.at[index, \"longitude\"]]\n",
    "    results = get_results_from_foursquare (query, location, limit)\n",
    "    distances = []\n",
    "    for result in results:\n",
    "        distances.append(result[\"distance\"])\n",
    "    if len(distances)>0:\n",
    "        vegan_distance.append(min(distances))\n",
    "    else:\n",
    "        vegan_distance.append(100000)\n",
    "df['vegan_distance'] = vegan_distance"
   ]
  },
  {
   "cell_type": "code",
   "execution_count": 45,
   "id": "9acacf64",
   "metadata": {},
   "outputs": [],
   "source": [
    "df.to_csv(\"Output/spanish_companies_school_starbucks_airport_vegan.csv\")"
   ]
  },
  {
   "cell_type": "code",
   "execution_count": 48,
   "id": "7fbb3930",
   "metadata": {},
   "outputs": [],
   "source": [
    "query = \"Basketball stadium\"\n",
    "limit = 10\n",
    "basketball_distance = []\n",
    "for index in df.index.values.tolist():\n",
    "    location = [df.at[index, \"latitude\"], df.at[index, \"longitude\"]]\n",
    "    results = get_results_from_foursquare (query, location, limit)\n",
    "    distances = []\n",
    "    for result in results:\n",
    "        distances.append(result[\"distance\"])\n",
    "    if len(distances)>0:\n",
    "        basketball_distance.append(min(distances))\n",
    "    else:\n",
    "        basketball_distance.append(100000)\n",
    "df['basketball_distance'] = basketball_distance"
   ]
  },
  {
   "cell_type": "code",
   "execution_count": 50,
   "id": "7ce2fad1",
   "metadata": {},
   "outputs": [],
   "source": [
    "df.to_csv(\"Output/spanish_companies_school_starbucks_airport_vegan_basketball.csv\")"
   ]
  },
  {
   "cell_type": "code",
   "execution_count": 51,
   "id": "155ae36d",
   "metadata": {},
   "outputs": [],
   "source": [
    "query = \"party\"\n",
    "limit = 10\n",
    "party_distance = []\n",
    "for index in df.index.values.tolist():\n",
    "    location = [df.at[index, \"latitude\"], df.at[index, \"longitude\"]]\n",
    "    results = get_results_from_foursquare (query, location, limit)\n",
    "    distances = []\n",
    "    for result in results:\n",
    "        distances.append(result[\"distance\"])\n",
    "    if len(distances)>0:\n",
    "        party_distance.append(min(distances))\n",
    "    else:\n",
    "        party_distance.append(100000)\n",
    "df['party_distance'] = party_distance"
   ]
  },
  {
   "cell_type": "code",
   "execution_count": 53,
   "id": "cc463682",
   "metadata": {},
   "outputs": [],
   "source": [
    "df.to_csv(\"Output/spanish_companies_school_starbucks_airport_vegan_basketball_party.csv\")"
   ]
  },
  {
   "cell_type": "code",
   "execution_count": 68,
   "id": "bcfe901e",
   "metadata": {},
   "outputs": [],
   "source": [
    "query = \"pet service\"\n",
    "limit = 10\n",
    "dog_distance = []\n",
    "for index in df.index.values.tolist():\n",
    "    location = [df.at[index, \"latitude\"], df.at[index, \"longitude\"]]\n",
    "    results = get_results_from_foursquare (query, location, limit)\n",
    "    distances = []\n",
    "    for result in results:\n",
    "        distances.append(result[\"distance\"])\n",
    "    if len(distances)>0:\n",
    "        dog_distance.append(min(distances))\n",
    "    else:\n",
    "        dog_distance.append(100000)\n",
    "df['dog_distance'] = dog_distance"
   ]
  },
  {
   "cell_type": "code",
   "execution_count": 70,
   "id": "72c64195",
   "metadata": {},
   "outputs": [],
   "source": [
    "df.to_csv(\"Output/spanish_companies_school_starbucks_airport_vegan_basketball_party_dog.csv\")"
   ]
  },
  {
   "cell_type": "code",
   "execution_count": 85,
   "id": "0e74bcbb",
   "metadata": {},
   "outputs": [],
   "source": [
    "query = \"Design\"\n",
    "limit = 10\n",
    "design_distance = []\n",
    "for index in df.index.values.tolist():\n",
    "    location = [df.at[index, \"latitude\"], df.at[index, \"longitude\"]]\n",
    "    results = get_results_from_foursquare (query, location, limit)\n",
    "    distances = []\n",
    "    for result in results:\n",
    "        distances.append(result[\"distance\"])\n",
    "    if len(distances)>0:\n",
    "        design_distance.append(min(distances))\n",
    "    else:\n",
    "        design_distance.append(100000)\n",
    "df['design_distance'] = design_distance"
   ]
  },
  {
   "cell_type": "code",
   "execution_count": 87,
   "id": "2d4bc3d0",
   "metadata": {},
   "outputs": [],
   "source": [
    "df.to_csv(\"Output/spanish_companies_school_starbucks_airport_vegan_basketball_party_dog_design.csv\")"
   ]
  },
  {
   "cell_type": "code",
   "execution_count": 88,
   "id": "e7b19e44",
   "metadata": {},
   "outputs": [],
   "source": [
    "query = \"tech startup\"\n",
    "limit = 10\n",
    "tech_distance = []\n",
    "for index in df.index.values.tolist():\n",
    "    location = [df.at[index, \"latitude\"], df.at[index, \"longitude\"]]\n",
    "    results = get_results_from_foursquare (query, location, limit)\n",
    "    distances = []\n",
    "    for result in results:\n",
    "        distances.append(result[\"distance\"])\n",
    "    if len(distances)>0:\n",
    "        tech_distance.append(min(distances))\n",
    "    else:\n",
    "        tech_distance.append(100000)\n",
    "df['tech_distance'] = tech_distance"
   ]
  },
  {
   "cell_type": "code",
   "execution_count": 90,
   "id": "595d6816",
   "metadata": {},
   "outputs": [],
   "source": [
    "df.to_csv(\"Output/spanish_companies_all.csv\")"
   ]
  },
  {
   "cell_type": "code",
   "execution_count": 125,
   "id": "0ce43d90",
   "metadata": {},
   "outputs": [],
   "source": [
    "cols = df.columns.tolist()\n",
    "cols2 = cols[0:6] + [cols[-3]] + [cols[6]] + [cols[-2]] + cols[7:9] + [cols[-5]] + cols[9:11] + [cols[-4]]\n",
    "df = df[cols2]"
   ]
  },
  {
   "cell_type": "code",
   "execution_count": 128,
   "id": "b5de2003",
   "metadata": {},
   "outputs": [],
   "source": [
    "df.to_csv(\"Output/spanish_companies_ordered.csv\")"
   ]
  },
  {
   "cell_type": "code",
   "execution_count": 130,
   "id": "45e97b89",
   "metadata": {},
   "outputs": [],
   "source": [
    "sum_of_distances = []\n",
    "list_of_columns_to_add = list(df.columns)[6:]\n",
    "for index in df.index.values.tolist():\n",
    "    sum_ = 0\n",
    "    i = 0\n",
    "    for column in list_of_columns_to_add:\n",
    "        weight = df3.at[i, \"final_weight\"]\n",
    "        sum_ += df.at[index, column]*weight\n",
    "        i += 1\n",
    "    sum_of_distances.append(sum_)\n",
    "df['sum_of_distances'] = sum_of_distances"
   ]
  },
  {
   "cell_type": "code",
   "execution_count": 138,
   "id": "94843210",
   "metadata": {},
   "outputs": [],
   "source": [
    "df.to_csv(\"Output/spanish_companies_sum_of_distances.csv\")"
   ]
  },
  {
   "cell_type": "code",
   "execution_count": 141,
   "id": "006bc216",
   "metadata": {},
   "outputs": [
    {
     "data": {
      "text/plain": [
       "0"
      ]
     },
     "execution_count": 141,
     "metadata": {},
     "output_type": "execute_result"
    }
   ],
   "source": [
    "df[\"sum_of_distances\"].idxmin()"
   ]
  },
  {
   "cell_type": "code",
   "execution_count": 149,
   "id": "965ca96b",
   "metadata": {},
   "outputs": [
    {
     "data": {
      "text/plain": [
       "0"
      ]
     },
     "execution_count": 149,
     "metadata": {},
     "output_type": "execute_result"
    }
   ],
   "source": [
    "df[\"sum_of_distances\"][df['city']==\"Valencia\"].idxmin()"
   ]
  },
  {
   "cell_type": "code",
   "execution_count": 145,
   "id": "2932dcf3",
   "metadata": {},
   "outputs": [
    {
     "data": {
      "text/plain": [
       "12"
      ]
     },
     "execution_count": 145,
     "metadata": {},
     "output_type": "execute_result"
    }
   ],
   "source": [
    "df[\"sum_of_distances\"][df['city']==\"Barcelona\"].idxmin()"
   ]
  },
  {
   "cell_type": "code",
   "execution_count": 143,
   "id": "5c956b5d",
   "metadata": {},
   "outputs": [
    {
     "data": {
      "text/plain": [
       "164"
      ]
     },
     "execution_count": 143,
     "metadata": {},
     "output_type": "execute_result"
    }
   ],
   "source": [
    "df[\"sum_of_distances\"][df['city']==\"Madrid\"].idxmin()"
   ]
  },
  {
   "cell_type": "code",
   "execution_count": null,
   "id": "0e3a22b3",
   "metadata": {},
   "outputs": [],
   "source": []
  }
 ],
 "metadata": {
  "kernelspec": {
   "display_name": "Python 3 (ipykernel)",
   "language": "python",
   "name": "python3"
  },
  "language_info": {
   "codemirror_mode": {
    "name": "ipython",
    "version": 3
   },
   "file_extension": ".py",
   "mimetype": "text/x-python",
   "name": "python",
   "nbconvert_exporter": "python",
   "pygments_lexer": "ipython3",
   "version": "3.9.12"
  }
 },
 "nbformat": 4,
 "nbformat_minor": 5
}
