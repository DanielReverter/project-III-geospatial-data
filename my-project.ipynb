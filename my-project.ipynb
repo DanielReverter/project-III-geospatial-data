{
 "cells": [
  {
   "cell_type": "code",
   "execution_count": 1,
   "id": "0c7762bf",
   "metadata": {},
   "outputs": [],
   "source": [
    "import os\n",
    "import requests\n",
    "import json\n",
    "from dotenv import load_dotenv\n",
    "import pandas as pd\n",
    "import geopandas as gpd\n",
    "from cartoframes.viz import Map, Layer, popup_element"
   ]
  },
  {
   "cell_type": "code",
   "execution_count": 2,
   "id": "e1a0b623",
   "metadata": {},
   "outputs": [
    {
     "data": {
      "text/plain": [
       "True"
      ]
     },
     "execution_count": 2,
     "metadata": {},
     "output_type": "execute_result"
    }
   ],
   "source": [
    "load_dotenv()"
   ]
  },
  {
   "cell_type": "code",
   "execution_count": 3,
   "id": "110d3b70",
   "metadata": {},
   "outputs": [],
   "source": [
    "key = os.getenv(\"KEY\")"
   ]
  },
  {
   "cell_type": "code",
   "execution_count": 35,
   "id": "f02b7465",
   "metadata": {},
   "outputs": [],
   "source": [
    "def get_results_from_foursquare (query, location, limit):\n",
    "    url = f\"https://api.foursquare.com/v3/places/search?query={query}&ll={location[0]}%2C{location[1]}&sort=DISTANCE&{limit}=5\"\n",
    "    headers = {\n",
    "        \"Accept\": \"application/json\",\n",
    "        \"Authorization\": key\n",
    "    }\n",
    "    response = requests.get(url, headers=headers)\n",
    "    return response.json()[\"results\"]"
   ]
  },
  {
   "cell_type": "code",
   "execution_count": 36,
   "id": "ecc040ce",
   "metadata": {},
   "outputs": [],
   "source": [
    "query = \"cafe\"\n",
    "Ironhack_lat=41.3977737\n",
    "Ironhack_lon=2.1882674\n",
    "location = [Ironhack_lat, Ironhack_lon]\n",
    "limit = 10\n",
    "results = get_results_from_foursquare (query, location, limit)"
   ]
  },
  {
   "cell_type": "code",
   "execution_count": 37,
   "id": "b43aecc4",
   "metadata": {},
   "outputs": [
    {
     "data": {
      "text/plain": [
       "{'fsq_id': '506ee46ae4b06a509dceb3d0',\n",
       " 'categories': [{'id': 13334,\n",
       "   'name': 'Sandwich Restaurant',\n",
       "   'icon': {'prefix': 'https://ss3.4sqi.net/img/categories_v2/food/deli_',\n",
       "    'suffix': '.png'}}],\n",
       " 'chains': [],\n",
       " 'distance': 140,\n",
       " 'geocodes': {'main': {'latitude': 41.398975, 'longitude': 2.188485},\n",
       "  'roof': {'latitude': 41.398975, 'longitude': 2.188485}},\n",
       " 'link': '/v3/places/506ee46ae4b06a509dceb3d0',\n",
       " 'location': {'address': 'Carrer de Tànger, 22',\n",
       "  'admin_region': 'Cataluña',\n",
       "  'country': 'ES',\n",
       "  'cross_street': '',\n",
       "  'formatted_address': 'Carrer de Tànger, 22, 08018 Barcelona Catalonia',\n",
       "  'locality': 'Barcelona',\n",
       "  'neighborhood': ['El Poblenou'],\n",
       "  'postcode': '08018',\n",
       "  'region': 'Catalonia'},\n",
       " 'name': 'Carrot Café',\n",
       " 'related_places': {},\n",
       " 'timezone': 'Europe/Madrid'}"
      ]
     },
     "execution_count": 37,
     "metadata": {},
     "output_type": "execute_result"
    }
   ],
   "source": [
    "results[0]"
   ]
  },
  {
   "cell_type": "code",
   "execution_count": null,
   "id": "7f0d5451",
   "metadata": {},
   "outputs": [],
   "source": []
  }
 ],
 "metadata": {
  "kernelspec": {
   "display_name": "Python 3 (ipykernel)",
   "language": "python",
   "name": "python3"
  },
  "language_info": {
   "codemirror_mode": {
    "name": "ipython",
    "version": 3
   },
   "file_extension": ".py",
   "mimetype": "text/x-python",
   "name": "python",
   "nbconvert_exporter": "python",
   "pygments_lexer": "ipython3",
   "version": "3.9.12"
  }
 },
 "nbformat": 4,
 "nbformat_minor": 5
}
