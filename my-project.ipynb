{
 "cells": [
  {
   "cell_type": "code",
   "execution_count": 147,
   "id": "0c7762bf",
   "metadata": {},
   "outputs": [],
   "source": [
    "import os\n",
    "import requests\n",
    "import json\n",
    "from dotenv import load_dotenv\n",
    "import pandas as pd\n",
    "import geopandas as gpd\n",
    "from cartoframes.viz import Map, Layer, popup_element\n",
    "from pymongo import MongoClient\n",
    "from pymongo import GEOSPHERE\n",
    "import math\n",
    "import numpy as np"
   ]
  },
  {
   "cell_type": "code",
   "execution_count": 2,
   "id": "e1a0b623",
   "metadata": {},
   "outputs": [
    {
     "data": {
      "text/plain": [
       "True"
      ]
     },
     "execution_count": 2,
     "metadata": {},
     "output_type": "execute_result"
    }
   ],
   "source": [
    "load_dotenv()"
   ]
  },
  {
   "cell_type": "code",
   "execution_count": 3,
   "id": "110d3b70",
   "metadata": {},
   "outputs": [],
   "source": [
    "key = os.getenv(\"KEY\")"
   ]
  },
  {
   "cell_type": "code",
   "execution_count": 4,
   "id": "f02b7465",
   "metadata": {},
   "outputs": [],
   "source": [
    "def get_results_from_foursquare (query, location, limit):\n",
    "    url = f\"https://api.foursquare.com/v3/places/search?query={query}&ll={location[0]}%2C{location[1]}&sort=DISTANCE&{limit}=5\"\n",
    "    headers = {\n",
    "        \"Accept\": \"application/json\",\n",
    "        \"Authorization\": key\n",
    "    }\n",
    "    response = requests.get(url, headers=headers)\n",
    "    return response.json()[\"results\"]"
   ]
  },
  {
   "cell_type": "code",
   "execution_count": 5,
   "id": "ecc040ce",
   "metadata": {},
   "outputs": [],
   "source": [
    "query = \"cafe\"\n",
    "Ironhack_lat=41.3977737\n",
    "Ironhack_lon=2.1882674\n",
    "location = [Ironhack_lat, Ironhack_lon]\n",
    "limit = 10\n",
    "results = get_results_from_foursquare (query, location, limit)"
   ]
  },
  {
   "cell_type": "code",
   "execution_count": 32,
   "id": "7f0d5451",
   "metadata": {},
   "outputs": [],
   "source": [
    "client = MongoClient(\"localhost:27017\")\n",
    "db = client.get_database(\"Ironhack\")"
   ]
  },
  {
   "cell_type": "code",
   "execution_count": 57,
   "id": "33f5fe1d",
   "metadata": {},
   "outputs": [],
   "source": [
    "companies = db.get_collection(\"companies\")"
   ]
  },
  {
   "cell_type": "code",
   "execution_count": 90,
   "id": "b9ec78da",
   "metadata": {},
   "outputs": [],
   "source": [
    "valencia_companies = list(companies.find({\"offices.city\":\"Valencia\"}))\n",
    "barcelona_companies = list(companies.find({\"offices.city\":\"Barcelona\"}))\n",
    "madrid_companies = list(companies.find({\"offices.city\":\"Madrid\"}))\n",
    "spain_companies = [valencia_companies, barcelona_companies, madrid_companies]"
   ]
  },
  {
   "cell_type": "code",
   "execution_count": 116,
   "id": "2890d2c3",
   "metadata": {},
   "outputs": [],
   "source": [
    "name = []\n",
    "city = []\n",
    "office_number = []\n",
    "address = []\n",
    "latitude = []\n",
    "longitude = []\n",
    "for each_city in spain_companies:\n",
    "    for company in each_city:\n",
    "        try:\n",
    "            for i in range(len(company[\"offices\"])):\n",
    "                n = 0\n",
    "                if company[\"offices\"][i][\"city\"] in [\"Valencia\", \"Barcelona\", \"Madrid\"]:\n",
    "                    n += 1\n",
    "                    name.append(company[\"name\"])\n",
    "                    city.append(company[\"offices\"][i][\"city\"])\n",
    "                    office_number.append(n)\n",
    "                    address.append(company[\"offices\"][i][\"address1\"])\n",
    "                    latitude.append(company[\"offices\"][i][\"latitude\"])\n",
    "                    longitude.append(company[\"offices\"][i][\"longitude\"])\n",
    "        except:\n",
    "            pass"
   ]
  },
  {
   "cell_type": "code",
   "execution_count": 125,
   "id": "10651c57",
   "metadata": {},
   "outputs": [],
   "source": [
    "spain_dict = {\"name\":name, \"city\":city, \"office_number\":office_number, \"address\":address, \"latitude\":latitude, \"longitude\":longitude}"
   ]
  },
  {
   "cell_type": "code",
   "execution_count": 126,
   "id": "5848b7cf",
   "metadata": {},
   "outputs": [],
   "source": [
    "df = pd.DataFrame.from_dict(spain_dict)"
   ]
  },
  {
   "cell_type": "code",
   "execution_count": 148,
   "id": "050b75ae",
   "metadata": {},
   "outputs": [],
   "source": [
    "df['address'].replace('', np.nan, inplace=True)"
   ]
  },
  {
   "cell_type": "code",
   "execution_count": 152,
   "id": "e668c635",
   "metadata": {},
   "outputs": [],
   "source": [
    "df = df.dropna(subset=[\"address\", \"latitude\", \"longitude\"], how='all')"
   ]
  },
  {
   "cell_type": "code",
   "execution_count": 161,
   "id": "9b26f41b",
   "metadata": {},
   "outputs": [],
   "source": [
    "def get_coordinates (place):\n",
    "    try:\n",
    "        res = requests.get(f\"https://geocode.xyz/{place}?json=1\").json()\n",
    "        return [res[\"longt\"],res[\"latt\"]]\n",
    "    except:\n",
    "        return [np.nan, np.nan]"
   ]
  },
  {
   "cell_type": "code",
   "execution_count": null,
   "id": "57bfdf08",
   "metadata": {},
   "outputs": [],
   "source": [
    "for i in df.index.values.tolist():\n",
    "    if math.isnan(df.at[i, \"latitude\"]) or df.at[i, \"latitude\"]==0:\n",
    "        address_complete = df.at[i, \"address\"] + \", \" + df.at[i, \"city\"] + \", Spain\"\n",
    "        coordinates = get_coordinates(address_complete)\n",
    "        df.at[i, \"latitude\"]= float(coordinates[1])\n",
    "        df.at[i, \"longitude\"]= float(coordinates[0])"
   ]
  },
  {
   "cell_type": "code",
   "execution_count": 196,
   "id": "67cc9405",
   "metadata": {},
   "outputs": [],
   "source": [
    "for i in df.index.values.tolist():\n",
    "    if df.at[i, \"latitude\"] < 20:\n",
    "        latitude = df.at[i, \"latitude\"]\n",
    "        longitude = df.at[i, \"longitude\"]\n",
    "        df.at[i, \"latitude\"] = longitude\n",
    "        df.at[i, \"longitude\"] = latitude"
   ]
  },
  {
   "cell_type": "code",
   "execution_count": 198,
   "id": "974a0d08",
   "metadata": {},
   "outputs": [
    {
     "name": "stderr",
     "output_type": "stream",
     "text": [
      "C:\\Users\\Daniel\\AppData\\Local\\Temp\\ipykernel_8060\\3028638243.py:1: SettingWithCopyWarning: \n",
      "A value is trying to be set on a copy of a slice from a DataFrame.\n",
      "Try using .loc[row_indexer,col_indexer] = value instead\n",
      "\n",
      "See the caveats in the documentation: https://pandas.pydata.org/pandas-docs/stable/user_guide/indexing.html#returning-a-view-versus-a-copy\n",
      "  df['latitude'] = df['latitude'].fillna(0)\n"
     ]
    }
   ],
   "source": [
    "df['latitude'] = df['latitude'].fillna(0)"
   ]
  },
  {
   "cell_type": "code",
   "execution_count": 200,
   "id": "a394f34e",
   "metadata": {},
   "outputs": [
    {
     "name": "stderr",
     "output_type": "stream",
     "text": [
      "C:\\Users\\Daniel\\AppData\\Local\\Temp\\ipykernel_8060\\1358260333.py:1: SettingWithCopyWarning: \n",
      "A value is trying to be set on a copy of a slice from a DataFrame\n",
      "\n",
      "See the caveats in the documentation: https://pandas.pydata.org/pandas-docs/stable/user_guide/indexing.html#returning-a-view-versus-a-copy\n",
      "  df.drop(df[df.latitude < 30].index, inplace=True)\n"
     ]
    }
   ],
   "source": [
    "df.drop(df[df.latitude < 30].index, inplace=True)"
   ]
  },
  {
   "cell_type": "code",
   "execution_count": 209,
   "id": "6af88054",
   "metadata": {},
   "outputs": [],
   "source": [
    "df.drop(df[df.longitude < -10].index, inplace=True)"
   ]
  },
  {
   "cell_type": "code",
   "execution_count": 210,
   "id": "084f6d70",
   "metadata": {},
   "outputs": [],
   "source": [
    "df.to_csv(\"Output/spanish_companies.csv\")"
   ]
  },
  {
   "cell_type": "code",
   "execution_count": 211,
   "id": "f91274ae",
   "metadata": {},
   "outputs": [],
   "source": [
    "df = pd.read_csv('Output/spanish_companies.csv')"
   ]
  },
  {
   "cell_type": "code",
   "execution_count": 212,
   "id": "85104204",
   "metadata": {},
   "outputs": [],
   "source": [
    "df = df.set_index('Unnamed: 0')\n",
    "df.index.name = None"
   ]
  },
  {
   "cell_type": "code",
   "execution_count": 220,
   "id": "a24cc3c9",
   "metadata": {},
   "outputs": [
    {
     "name": "stderr",
     "output_type": "stream",
     "text": [
      "To https://github.com/DanielReverter/project-III-geospatial-data.git\n",
      "   b24f28b..96e081b  main -> main\n"
     ]
    }
   ],
   "source": [
    "!git push origin main"
   ]
  },
  {
   "cell_type": "code",
   "execution_count": null,
   "id": "18151095",
   "metadata": {},
   "outputs": [],
   "source": []
  }
 ],
 "metadata": {
  "kernelspec": {
   "display_name": "Python 3 (ipykernel)",
   "language": "python",
   "name": "python3"
  },
  "language_info": {
   "codemirror_mode": {
    "name": "ipython",
    "version": 3
   },
   "file_extension": ".py",
   "mimetype": "text/x-python",
   "name": "python",
   "nbconvert_exporter": "python",
   "pygments_lexer": "ipython3",
   "version": "3.9.12"
  }
 },
 "nbformat": 4,
 "nbformat_minor": 5
}
